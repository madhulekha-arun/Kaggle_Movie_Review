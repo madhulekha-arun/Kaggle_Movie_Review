{
 "cells": [
  {
   "cell_type": "markdown",
   "metadata": {
    "collapsed": false
   },
   "source": [
    "# Homework 3 - Analyzing a Movie Review Dataset Part 2\n",
    "\n",
    "## 1.Word2Vec"
   ]
  },
  {
   "cell_type": "code",
   "execution_count": 7,
   "metadata": {
    "collapsed": true
   },
   "outputs": [],
   "source": [
    "import pandas as pd\n",
    "from bs4 import BeautifulSoup\n",
    "import re\n",
    "import numpy as np\n",
    "from gensim.models import Word2Vec,KeyedVectors\n",
    "import nltk\n",
    "pd.set_option('max_colwidth',400)\n",
    "import warnings\n",
    "warnings.filterwarnings(\"ignore\", category=UserWarning, module='bs4')\n",
    "\n",
    "\n",
    "train = pd.read_csv( \"labeledTrainData.tsv\", header=0, delimiter=\"\\t\", quoting=3 )\n",
    "test = pd.read_csv( \"testData.tsv\", header=0, delimiter=\"\\t\", quoting=3 )\n",
    "unlabeled_train = pd.read_csv( \"unlabeledTrainData.tsv\", header=0, delimiter=\"\\t\", quoting=3 )"
   ]
  },
  {
   "cell_type": "code",
   "execution_count": 3,
   "metadata": {
    "collapsed": true
   },
   "outputs": [],
   "source": [
    "def get_words( review ):\n",
    "    review_text = BeautifulSoup(review).get_text()\n",
    "    review_text = re.sub(\"[^a-zA-Z]\",\" \", review_text)\n",
    "    words = review_text.lower().split()\n",
    "    return(words)"
   ]
  },
  {
   "cell_type": "code",
   "execution_count": 4,
   "metadata": {
    "collapsed": true
   },
   "outputs": [],
   "source": [
    "def get_sentences( review ):\n",
    "    tokenizer = nltk.data.load('tokenizers/punkt/english.pickle')\n",
    "    raw_sentences = tokenizer.tokenize(review.strip())\n",
    "    sentences = []\n",
    "    for raw_sentence in raw_sentences:\n",
    "        if len(raw_sentence) > 0:\n",
    "            sentences.append( get_words( raw_sentence ))\n",
    "    return sentences"
   ]
  },
  {
   "cell_type": "code",
   "execution_count": 5,
   "metadata": {
    "collapsed": false
   },
   "outputs": [],
   "source": [
    "sentences = []\n",
    "for review in train[\"review\"]:\n",
    "    sentences += get_sentences(review)\n",
    "for review in unlabeled_train[\"review\"]:\n",
    "    sentences += get_sentences(review)"
   ]
  },
  {
   "cell_type": "code",
   "execution_count": 32,
   "metadata": {
    "collapsed": true
   },
   "outputs": [],
   "source": [
    "all_words = []\n",
    "for rev in train[\"review\"]:\n",
    "    all_words.extend(get_words(rev))\n",
    "for rev in unlabeled_train[\"review\"]:\n",
    "    all_words.extend(get_words(rev))    "
   ]
  },
  {
   "cell_type": "code",
   "execution_count": 131,
   "metadata": {
    "collapsed": false
   },
   "outputs": [
    {
     "name": "stdout",
     "output_type": "stream",
     "text": [
      "Number of sentences to train the word 2 vec model  795538\n"
     ]
    }
   ],
   "source": [
    "print(\"Number of sentences to train the word 2 vec model \",len(sentences))"
   ]
  },
  {
   "cell_type": "markdown",
   "metadata": {},
   "source": [
    "## 1 A - Creating Z1\n"
   ]
  },
  {
   "cell_type": "code",
   "execution_count": 7,
   "metadata": {
    "collapsed": false
   },
   "outputs": [
    {
     "name": "stdout",
     "output_type": "stream",
     "text": [
      "Shape of Z1 :  (16490, 100)\n"
     ]
    }
   ],
   "source": [
    "context = 5    \n",
    "embedding_dimension = 100                    \n",
    "min_words = 40                                                                                                              \n",
    "model = Word2Vec(sentences, size = embedding_dimension, min_count = min_words, window = context)\n",
    "model.init_sims(replace=True)\n",
    "model_name = \"word2vec\"\n",
    "model.save(model_name)\n",
    "model = Word2Vec.load(\"word2vec\")\n",
    "Z1 = model.wv.syn0\n",
    "print (\"Shape of Z1 : \",model.wv.syn0.shape)"
   ]
  },
  {
   "cell_type": "markdown",
   "metadata": {},
   "source": [
    "## 1 B - Creating Z2"
   ]
  },
  {
   "cell_type": "code",
   "execution_count": 28,
   "metadata": {
    "collapsed": false
   },
   "outputs": [],
   "source": [
    "model_google = KeyedVectors.load_word2vec_format('GoogleNews-vectors-negative300.bin', binary=True)"
   ]
  },
  {
   "cell_type": "code",
   "execution_count": 38,
   "metadata": {
    "collapsed": false
   },
   "outputs": [],
   "source": [
    "Z2_list = []\n",
    "words_Z2 = []\n",
    "i = 0\n",
    "all_words = set(all_words)\n",
    "for key, elem in model_google.vocab.items():\n",
    "    if key in all_words:\n",
    "        words_Z2.append(key)\n",
    "        Z2_list.append(model_google.syn0[i])\n",
    "    i+=1  "
   ]
  },
  {
   "cell_type": "code",
   "execution_count": 39,
   "metadata": {
    "collapsed": false
   },
   "outputs": [
    {
     "data": {
      "text/plain": [
       "123504"
      ]
     },
     "execution_count": 39,
     "metadata": {},
     "output_type": "execute_result"
    }
   ],
   "source": [
    "len(all_words)"
   ]
  },
  {
   "cell_type": "code",
   "execution_count": 40,
   "metadata": {
    "collapsed": false
   },
   "outputs": [],
   "source": [
    "Z2=np.array(Z2_list)"
   ]
  },
  {
   "cell_type": "code",
   "execution_count": 41,
   "metadata": {
    "collapsed": false
   },
   "outputs": [
    {
     "name": "stdout",
     "output_type": "stream",
     "text": [
      "Converted from  (3000000, 300)  to  (65267, 300)\n",
      "Shape of Z2 :  (65267, 300)\n"
     ]
    }
   ],
   "source": [
    "print (\"Converted from \",model_google.syn0.shape,\" to \",Z2.shape)\n",
    "print (\"Shape of Z2 : \",Z2.shape)"
   ]
  },
  {
   "cell_type": "markdown",
   "metadata": {},
   "source": [
    "## 1 C - K Means"
   ]
  },
  {
   "cell_type": "markdown",
   "metadata": {},
   "source": [
    "### K-Means for Z1"
   ]
  },
  {
   "cell_type": "code",
   "execution_count": 71,
   "metadata": {
    "collapsed": false
   },
   "outputs": [],
   "source": [
    "from sklearn.cluster import KMeans\n",
    "from numpy import linalg as LA\n",
    "kmeans_clustering = KMeans( n_clusters = 10 )\n",
    "idx = kmeans_clustering.fit_predict( Z1 )\n",
    "map_word = dict(zip( model.wv.index2word, idx ))"
   ]
  },
  {
   "cell_type": "code",
   "execution_count": 25,
   "metadata": {
    "collapsed": false
   },
   "outputs": [],
   "source": [
    "cluster_words = [[] for i in range(10)]\n",
    "i = 0\n",
    "for key, elem in model.wv.vocab.items():\n",
    "    cluster_ind = map_word[key]\n",
    "    center = kmeans_clustering.cluster_centers_[cluster_ind] \n",
    "    dist = np.linalg.norm(center-Z1[i])\n",
    "    cluster_words[cluster_ind].append((key,dist))\n",
    "    i+=1  "
   ]
  },
  {
   "cell_type": "code",
   "execution_count": 26,
   "metadata": {
    "collapsed": false
   },
   "outputs": [
    {
     "data": {
      "text/html": [
       "<div>\n",
       "<table border=\"1\" class=\"dataframe\">\n",
       "  <thead>\n",
       "    <tr style=\"text-align: right;\">\n",
       "      <th></th>\n",
       "      <th>cluster</th>\n",
       "      <th>clustered_words</th>\n",
       "    </tr>\n",
       "  </thead>\n",
       "  <tbody>\n",
       "    <tr>\n",
       "      <th>0</th>\n",
       "      <td>0</td>\n",
       "      <td>[figure, betray, choose, attain, contradict, belong, lead, entice, candle, fund, support, bet, forbid, ponder, repeat, conjure, amongst, inflict, take, attend]</td>\n",
       "    </tr>\n",
       "    <tr>\n",
       "      <th>1</th>\n",
       "      <td>1</td>\n",
       "      <td>[assassinated, mcdowell, bickford, skywalker, stacey, kirby, rebecca, wellman, patton, myrna, oldman, moreau, kira, impersonation, kevin, slater, greenstreet, cristina, lever, abigail]</td>\n",
       "    </tr>\n",
       "    <tr>\n",
       "      <th>2</th>\n",
       "      <td>2</td>\n",
       "      <td>[lately, originally, moviegoer, tv, creators, i, period, info, aired, efforts, viewings, differently, prude, errors, off, hadn, thousand, fiction, above, again]</td>\n",
       "    </tr>\n",
       "    <tr>\n",
       "      <th>3</th>\n",
       "      <td>3</td>\n",
       "      <td>[aptly, micro, lenzi, jazz, brightest, gilligan, peyton, signature, resurrection, limbo, tag, prelude, mimzy, animator, trinity, quintessential, noir, roach, wb, sting]</td>\n",
       "    </tr>\n",
       "    <tr>\n",
       "      <th>4</th>\n",
       "      <td>4</td>\n",
       "      <td>[boy, sheep, rents, defender, obsessive, drowning, imaginary, vixen, devious, psychopathic, beaver, daddy, hallucination, antithesis, hubby, whose, assailant, nanny, wed, stalker]</td>\n",
       "    </tr>\n",
       "    <tr>\n",
       "      <th>5</th>\n",
       "      <td>5</td>\n",
       "      <td>[occasionally, harshly, distorted, erratic, fantastically, patronizing, colors, idealized, flashy, thorough, modified, marvelous, scathing, leisurely, carefully, ridiculous, painful, ambiance, hopeless, dialogs]</td>\n",
       "    </tr>\n",
       "    <tr>\n",
       "      <th>6</th>\n",
       "      <td>6</td>\n",
       "      <td>[signs, secrets, contrasting, questioning, demeanor, gender, conceit, objection, trappings, selfishness, wallop, defying, depictions, denial, shape, disdain, mechanics, prestige, usage, influence]</td>\n",
       "    </tr>\n",
       "    <tr>\n",
       "      <th>7</th>\n",
       "      <td>7</td>\n",
       "      <td>[wandering, shove, sheets, ride, midgets, cafe, heads, floors, branches, pizza, skeletons, creep, roller, toxic, throws, swing, desert, chair, grenade, running]</td>\n",
       "    </tr>\n",
       "    <tr>\n",
       "      <th>8</th>\n",
       "      <td>8</td>\n",
       "      <td>[humiliated, damaged, restored, informing, received, destroyed, claims, diminished, encouraged, stopped, exposing, matured, gains, classified, tackled, propelled, has, explores, imagines, devised]</td>\n",
       "    </tr>\n",
       "    <tr>\n",
       "      <th>9</th>\n",
       "      <td>9</td>\n",
       "      <td>[partition, group, pyramid, principals, workers, labor, gathering, outpost, ghosts, globe, spirits, mutant, behalf, houses, budapest, grandparents, bunker, dancers, wolves, afterlife]</td>\n",
       "    </tr>\n",
       "  </tbody>\n",
       "</table>\n",
       "</div>"
      ],
      "text/plain": [
       "   cluster  \\\n",
       "0        0   \n",
       "1        1   \n",
       "2        2   \n",
       "3        3   \n",
       "4        4   \n",
       "5        5   \n",
       "6        6   \n",
       "7        7   \n",
       "8        8   \n",
       "9        9   \n",
       "\n",
       "                                                                                                                                                                                                       clustered_words  \n",
       "0                                                      [figure, betray, choose, attain, contradict, belong, lead, entice, candle, fund, support, bet, forbid, ponder, repeat, conjure, amongst, inflict, take, attend]  \n",
       "1                             [assassinated, mcdowell, bickford, skywalker, stacey, kirby, rebecca, wellman, patton, myrna, oldman, moreau, kira, impersonation, kevin, slater, greenstreet, cristina, lever, abigail]  \n",
       "2                                                     [lately, originally, moviegoer, tv, creators, i, period, info, aired, efforts, viewings, differently, prude, errors, off, hadn, thousand, fiction, above, again]  \n",
       "3                                             [aptly, micro, lenzi, jazz, brightest, gilligan, peyton, signature, resurrection, limbo, tag, prelude, mimzy, animator, trinity, quintessential, noir, roach, wb, sting]  \n",
       "4                                  [boy, sheep, rents, defender, obsessive, drowning, imaginary, vixen, devious, psychopathic, beaver, daddy, hallucination, antithesis, hubby, whose, assailant, nanny, wed, stalker]  \n",
       "5  [occasionally, harshly, distorted, erratic, fantastically, patronizing, colors, idealized, flashy, thorough, modified, marvelous, scathing, leisurely, carefully, ridiculous, painful, ambiance, hopeless, dialogs]  \n",
       "6                 [signs, secrets, contrasting, questioning, demeanor, gender, conceit, objection, trappings, selfishness, wallop, defying, depictions, denial, shape, disdain, mechanics, prestige, usage, influence]  \n",
       "7                                                     [wandering, shove, sheets, ride, midgets, cafe, heads, floors, branches, pizza, skeletons, creep, roller, toxic, throws, swing, desert, chair, grenade, running]  \n",
       "8                 [humiliated, damaged, restored, informing, received, destroyed, claims, diminished, encouraged, stopped, exposing, matured, gains, classified, tackled, propelled, has, explores, imagines, devised]  \n",
       "9                              [partition, group, pyramid, principals, workers, labor, gathering, outpost, ghosts, globe, spirits, mutant, behalf, houses, budapest, grandparents, bunker, dancers, wolves, afterlife]  "
      ]
     },
     "execution_count": 26,
     "metadata": {},
     "output_type": "execute_result"
    }
   ],
   "source": [
    "cluster_nums = []\n",
    "cluster_w = []\n",
    "\n",
    "for cluster_num in range(0,10):\n",
    "    words = []\n",
    "    k = sorted(cluster_words[cluster_num], key=lambda tup: tup[1])[:20]\n",
    "    for i,j in k:\n",
    "        words.append(i)\n",
    "    cluster_nums.append(cluster_num)\n",
    "    cluster_w.append(words)\n",
    "    \n",
    "output = pd.DataFrame( data={\"cluster\":cluster_nums, \"clustered_words\":cluster_w} )\n",
    "output"
   ]
  },
  {
   "cell_type": "markdown",
   "metadata": {},
   "source": [
    "### K-Means for Z2"
   ]
  },
  {
   "cell_type": "code",
   "execution_count": 42,
   "metadata": {
    "collapsed": false
   },
   "outputs": [],
   "source": [
    "kmeans_clustering_Z2 = KMeans( n_clusters = 10 )\n",
    "idx_Z2 = kmeans_clustering_Z2.fit_predict( Z2 )\n",
    "map_word_Z2 = dict(zip( words_Z2, idx_Z2 ))"
   ]
  },
  {
   "cell_type": "code",
   "execution_count": 43,
   "metadata": {
    "collapsed": false
   },
   "outputs": [],
   "source": [
    "cluster_words = [[] for i in range(10)]\n",
    "i = 0\n",
    "for key in words_Z2:\n",
    "    cluster_ind = map_word_Z2[key]\n",
    "    center = kmeans_clustering_Z2.cluster_centers_[cluster_ind] \n",
    "    dist = np.linalg.norm(center-Z2[i])\n",
    "    cluster_words[cluster_ind].append((key,dist))\n",
    "    i+=1  "
   ]
  },
  {
   "cell_type": "code",
   "execution_count": 44,
   "metadata": {
    "collapsed": false
   },
   "outputs": [
    {
     "data": {
      "text/html": [
       "<div>\n",
       "<table border=\"1\" class=\"dataframe\">\n",
       "  <thead>\n",
       "    <tr style=\"text-align: right;\">\n",
       "      <th></th>\n",
       "      <th>cluster</th>\n",
       "      <th>clustered_words</th>\n",
       "    </tr>\n",
       "  </thead>\n",
       "  <tbody>\n",
       "    <tr>\n",
       "      <th>0</th>\n",
       "      <td>0</td>\n",
       "      <td>[ahn, mew, unfulfillment, minions, resigning, editors, poppa, ooohh, narc, egghead, capability, blinders, replacements, impersonalized, coasting, ascerbic, assaulting, tolerated, exiled, trellises]</td>\n",
       "    </tr>\n",
       "    <tr>\n",
       "      <th>1</th>\n",
       "      <td>1</td>\n",
       "      <td>[enforce, reccomendations, humiliates, hotline, armistice, eardrum, omaha, democratic, brutalizes, european, vanquishing, recruitment, poche, substantiates, memorize, granted, northwest, tars, hypermodern, tomato]</td>\n",
       "    </tr>\n",
       "    <tr>\n",
       "      <th>2</th>\n",
       "      <td>2</td>\n",
       "      <td>[fakest, suffices, exhaling, arc, turnable, arrant, afterbirth, colonialism, nds, ig, pooled, target, assignations, jul, venturing, bugling, blowhards, gente, mister, licorice]</td>\n",
       "    </tr>\n",
       "    <tr>\n",
       "      <th>3</th>\n",
       "      <td>3</td>\n",
       "      <td>[cryptologists, fanbases, soliloquies, halfway, bubbling, superthin, marbled, slowdown, unbelivable, curmudgeon, dangle, blimps, reduction, klein, sod, fanfare, imitations, tunnel, larvae, bootlegger]</td>\n",
       "    </tr>\n",
       "    <tr>\n",
       "      <th>4</th>\n",
       "      <td>4</td>\n",
       "      <td>[razz, hypothesizing, lemony, trashy, gans, boyer, gurgling, zippers, assure, pinewood, ricerca, varsity, vacant, reads, concorde, leach, cartels, transforms, reels, cognitive]</td>\n",
       "    </tr>\n",
       "    <tr>\n",
       "      <th>5</th>\n",
       "      <td>5</td>\n",
       "      <td>[unselective, connoting, marshmallows, divinities, introduces, muzhik, endorses, gills, undeclared, unsociable, peerless, concede, nighttime, recliners, disservice, lattes, babirusa, swiftness, beguiles, shyest]</td>\n",
       "    </tr>\n",
       "    <tr>\n",
       "      <th>6</th>\n",
       "      <td>6</td>\n",
       "      <td>[subsp, savoy, supplement, acclaims, jarred, erupt, flagrant, wiley, refocus, spokes, translater, boiling, bon, affirmation, scarier, overexert, consistent, tortoise, carriers, uprising]</td>\n",
       "    </tr>\n",
       "    <tr>\n",
       "      <th>7</th>\n",
       "      <td>7</td>\n",
       "      <td>[torre, nightingales, decider, mismatch, jointed, especialy, moxy, cking, caymans, uncouth, walkabout, uninventive, phoney, giggling, gracing, calves, servile, reflex, puhleeze, paste]</td>\n",
       "    </tr>\n",
       "    <tr>\n",
       "      <th>8</th>\n",
       "      <td>8</td>\n",
       "      <td>[ahm, buffett, dhoom, lawsuits, washing, decorous, undreamed, possessor, socko, marshal, eligible, spewer, schema, coterie, lionel, filmi, submitted, hugging, sonic, sweetener]</td>\n",
       "    </tr>\n",
       "    <tr>\n",
       "      <th>9</th>\n",
       "      <td>9</td>\n",
       "      <td>[dustiest, intermittently, handkerchiefs, hen, ravine, forthrightness, zanies, rocketship, ei, marshy, daftness, secuirty, stingers, drowning, squeezable, womanizers, aestheticians, suckerpunch, rite, dad]</td>\n",
       "    </tr>\n",
       "  </tbody>\n",
       "</table>\n",
       "</div>"
      ],
      "text/plain": [
       "   cluster  \\\n",
       "0        0   \n",
       "1        1   \n",
       "2        2   \n",
       "3        3   \n",
       "4        4   \n",
       "5        5   \n",
       "6        6   \n",
       "7        7   \n",
       "8        8   \n",
       "9        9   \n",
       "\n",
       "                                                                                                                                                                                                         clustered_words  \n",
       "0                  [ahn, mew, unfulfillment, minions, resigning, editors, poppa, ooohh, narc, egghead, capability, blinders, replacements, impersonalized, coasting, ascerbic, assaulting, tolerated, exiled, trellises]  \n",
       "1  [enforce, reccomendations, humiliates, hotline, armistice, eardrum, omaha, democratic, brutalizes, european, vanquishing, recruitment, poche, substantiates, memorize, granted, northwest, tars, hypermodern, tomato]  \n",
       "2                                       [fakest, suffices, exhaling, arc, turnable, arrant, afterbirth, colonialism, nds, ig, pooled, target, assignations, jul, venturing, bugling, blowhards, gente, mister, licorice]  \n",
       "3               [cryptologists, fanbases, soliloquies, halfway, bubbling, superthin, marbled, slowdown, unbelivable, curmudgeon, dangle, blimps, reduction, klein, sod, fanfare, imitations, tunnel, larvae, bootlegger]  \n",
       "4                                       [razz, hypothesizing, lemony, trashy, gans, boyer, gurgling, zippers, assure, pinewood, ricerca, varsity, vacant, reads, concorde, leach, cartels, transforms, reels, cognitive]  \n",
       "5    [unselective, connoting, marshmallows, divinities, introduces, muzhik, endorses, gills, undeclared, unsociable, peerless, concede, nighttime, recliners, disservice, lattes, babirusa, swiftness, beguiles, shyest]  \n",
       "6                             [subsp, savoy, supplement, acclaims, jarred, erupt, flagrant, wiley, refocus, spokes, translater, boiling, bon, affirmation, scarier, overexert, consistent, tortoise, carriers, uprising]  \n",
       "7                               [torre, nightingales, decider, mismatch, jointed, especialy, moxy, cking, caymans, uncouth, walkabout, uninventive, phoney, giggling, gracing, calves, servile, reflex, puhleeze, paste]  \n",
       "8                                       [ahm, buffett, dhoom, lawsuits, washing, decorous, undreamed, possessor, socko, marshal, eligible, spewer, schema, coterie, lionel, filmi, submitted, hugging, sonic, sweetener]  \n",
       "9          [dustiest, intermittently, handkerchiefs, hen, ravine, forthrightness, zanies, rocketship, ei, marshy, daftness, secuirty, stingers, drowning, squeezable, womanizers, aestheticians, suckerpunch, rite, dad]  "
      ]
     },
     "execution_count": 44,
     "metadata": {},
     "output_type": "execute_result"
    }
   ],
   "source": [
    "cluster_nums = []\n",
    "cluster_w = []\n",
    "\n",
    "for cluster_num in range(0,10):\n",
    "    words = []\n",
    "    k = sorted(cluster_words[cluster_num], key=lambda tup: tup[1])[:20]\n",
    "    for i,j in k:\n",
    "        words.append(i)\n",
    "    cluster_nums.append(cluster_num)\n",
    "    cluster_w.append(words)\n",
    "    \n",
    "output2 = pd.DataFrame( data={\"cluster\":cluster_nums, \"clustered_words\":cluster_w} )\n",
    "output2"
   ]
  },
  {
   "cell_type": "markdown",
   "metadata": {},
   "source": [
    "# 1 D - X1, X2"
   ]
  },
  {
   "cell_type": "code",
   "execution_count": 45,
   "metadata": {
    "collapsed": true
   },
   "outputs": [],
   "source": [
    "def get_bag( review, map_word ):\n",
    "    c = 10\n",
    "    bag = np.zeros( c, dtype=\"float32\" )\n",
    "    for word in review:\n",
    "        if word in map_word:\n",
    "            index = map_word[word]\n",
    "            bag[index] += 1\n",
    "    return bag"
   ]
  },
  {
   "cell_type": "code",
   "execution_count": 46,
   "metadata": {
    "collapsed": false
   },
   "outputs": [],
   "source": [
    "train_r = []\n",
    "for rev in train[\"review\"]:\n",
    "    train_r.append(get_words(rev))\n",
    "\n",
    "test_r = []\n",
    "for rev in test[\"review\"]:\n",
    "    test_r.append(get_words(rev))"
   ]
  },
  {
   "cell_type": "code",
   "execution_count": 52,
   "metadata": {
    "collapsed": false
   },
   "outputs": [],
   "source": [
    "X1 = np.zeros( (train[\"review\"].size, 10), dtype=\"float32\" )\n",
    "c = 0\n",
    "for review in train_r:\n",
    "    X1[c] = get_bag( review, map_word )\n",
    "    c += 1\n",
    "\n",
    "kaggle_test_1 = np.zeros(( test[\"review\"].size, 10), dtype=\"float32\" )\n",
    "\n",
    "c = 0\n",
    "for review in test_r:\n",
    "    kaggle_test_1[c] = get_bag( review, map_word )\n",
    "    c += 1\n",
    "\n",
    "X2 = np.zeros( (train[\"review\"].size, 10), dtype=\"float32\" )\n",
    "c = 0\n",
    "for review in train_r:\n",
    "    X2[c] = get_bag( review, map_word_Z2 )\n",
    "    c += 1\n",
    "\n",
    "kaggle_test_2 = np.zeros(( test[\"review\"].size, 10), dtype=\"float32\" )\n",
    "\n",
    "c = 0\n",
    "for review in test_r:\n",
    "    kaggle_test_2[c] = get_bag( review, map_word_Z2 )\n",
    "    c += 1"
   ]
  },
  {
   "cell_type": "code",
   "execution_count": 70,
   "metadata": {
    "collapsed": false
   },
   "outputs": [
    {
     "name": "stdout",
     "output_type": "stream",
     "text": [
      "X1       (25000, 10)\n",
      "X1 test  (25000, 10)\n",
      "X2       (25000, 10)\n",
      "X2 test  (25000, 10)\n"
     ]
    }
   ],
   "source": [
    "print (\"X1      \",X1.shape)\n",
    "print (\"X1 test \",kaggle_test_1.shape)\n",
    "print (\"X2      \",X2.shape)\n",
    "print (\"X2 test \",kaggle_test_2.shape)\n",
    "np.save('X1',X1)\n",
    "np.save('X1_test', kaggle_test_1)\n",
    "np.save('X2', X2)\n",
    "np.save('X2_test', kaggle_test_2)"
   ]
  },
  {
   "cell_type": "code",
   "execution_count": 3,
   "metadata": {
    "collapsed": false
   },
   "outputs": [],
   "source": [
    "import numpy as np\n",
    "X1 = np.load('X1.npy')\n",
    "kaggle_test_1 = np.load('X1_test.npy')\n",
    "# X2 = np.load('X2.npy')\n",
    "# kaggle_test_2 = np.load('X2_test.npy')"
   ]
  },
  {
   "cell_type": "markdown",
   "metadata": {},
   "source": [
    "# 2 LDA"
   ]
  },
  {
   "cell_type": "code",
   "execution_count": 12,
   "metadata": {
    "collapsed": false
   },
   "outputs": [],
   "source": [
    "from gensim import corpora\n",
    "from gensim.models.ldamodel import LdaModel\n",
    "\n",
    "dictionary = corpora.Dictionary(train_r)"
   ]
  },
  {
   "cell_type": "code",
   "execution_count": 13,
   "metadata": {
    "collapsed": true
   },
   "outputs": [],
   "source": [
    "doc_term_matrix = [dictionary.doc2bow(review) for review in train_r]"
   ]
  },
  {
   "cell_type": "code",
   "execution_count": 14,
   "metadata": {
    "collapsed": true
   },
   "outputs": [],
   "source": [
    "from nltk.corpus import stopwords # Import the stop word list"
   ]
  },
  {
   "cell_type": "markdown",
   "metadata": {},
   "source": [
    "## 10 Topics"
   ]
  },
  {
   "cell_type": "code",
   "execution_count": 17,
   "metadata": {
    "collapsed": false
   },
   "outputs": [],
   "source": [
    "ldamodel = LdaModel(doc_term_matrix, num_topics=10, id2word = dictionary, passes=20)"
   ]
  },
  {
   "cell_type": "code",
   "execution_count": 19,
   "metadata": {
    "collapsed": false
   },
   "outputs": [
    {
     "data": {
      "text/html": [
       "<div>\n",
       "<table border=\"1\" class=\"dataframe\">\n",
       "  <thead>\n",
       "    <tr style=\"text-align: right;\">\n",
       "      <th></th>\n",
       "      <th>cluster</th>\n",
       "      <th>clustered_words</th>\n",
       "    </tr>\n",
       "  </thead>\n",
       "  <tbody>\n",
       "    <tr>\n",
       "      <th>0</th>\n",
       "      <td>0</td>\n",
       "      <td>[show, series, episode, version, tv, episodes, season, music, songs, musical]</td>\n",
       "    </tr>\n",
       "    <tr>\n",
       "      <th>1</th>\n",
       "      <td>1</td>\n",
       "      <td>[gandhi, che, hitler, macarthur, zizek, la, de, harilal, amrita, creasy]</td>\n",
       "    </tr>\n",
       "    <tr>\n",
       "      <th>2</th>\n",
       "      <td>2</td>\n",
       "      <td>[like, one, bad, movie, get, even, make, people, really, guy]</td>\n",
       "    </tr>\n",
       "    <tr>\n",
       "      <th>3</th>\n",
       "      <td>3</td>\n",
       "      <td>[woman, girl, husband, actress, mother, daughter, women, sister, boyfriend, young]</td>\n",
       "    </tr>\n",
       "    <tr>\n",
       "      <th>4</th>\n",
       "      <td>4</td>\n",
       "      <td>[movie, like, good, one, really, see, film, would, movies, time]</td>\n",
       "    </tr>\n",
       "    <tr>\n",
       "      <th>5</th>\n",
       "      <td>5</td>\n",
       "      <td>[film, one, story, films, characters, well, much, like, even, character]</td>\n",
       "    </tr>\n",
       "    <tr>\n",
       "      <th>6</th>\n",
       "      <td>6</td>\n",
       "      <td>[one, man, life, film, love, great, role, family, young, also]</td>\n",
       "    </tr>\n",
       "    <tr>\n",
       "      <th>7</th>\n",
       "      <td>7</td>\n",
       "      <td>[action, one, killer, also, good, horror, police, movie, john, fight]</td>\n",
       "    </tr>\n",
       "    <tr>\n",
       "      <th>8</th>\n",
       "      <td>8</td>\n",
       "      <td>[batman, superman, king, match, jackson, elvis, animated, animation, lion, cartoon]</td>\n",
       "    </tr>\n",
       "    <tr>\n",
       "      <th>9</th>\n",
       "      <td>9</td>\n",
       "      <td>[people, war, world, one, would, us, time, first, american, new]</td>\n",
       "    </tr>\n",
       "  </tbody>\n",
       "</table>\n",
       "</div>"
      ],
      "text/plain": [
       "   cluster  \\\n",
       "0        0   \n",
       "1        1   \n",
       "2        2   \n",
       "3        3   \n",
       "4        4   \n",
       "5        5   \n",
       "6        6   \n",
       "7        7   \n",
       "8        8   \n",
       "9        9   \n",
       "\n",
       "                                                                       clustered_words  \n",
       "0        [show, series, episode, version, tv, episodes, season, music, songs, musical]  \n",
       "1             [gandhi, che, hitler, macarthur, zizek, la, de, harilal, amrita, creasy]  \n",
       "2                        [like, one, bad, movie, get, even, make, people, really, guy]  \n",
       "3   [woman, girl, husband, actress, mother, daughter, women, sister, boyfriend, young]  \n",
       "4                     [movie, like, good, one, really, see, film, would, movies, time]  \n",
       "5             [film, one, story, films, characters, well, much, like, even, character]  \n",
       "6                       [one, man, life, film, love, great, role, family, young, also]  \n",
       "7                [action, one, killer, also, good, horror, police, movie, john, fight]  \n",
       "8  [batman, superman, king, match, jackson, elvis, animated, animation, lion, cartoon]  \n",
       "9                     [people, war, world, one, would, us, time, first, american, new]  "
      ]
     },
     "execution_count": 19,
     "metadata": {},
     "output_type": "execute_result"
    }
   ],
   "source": [
    "cluster_nums = []\n",
    "cluster_words = []\n",
    "\n",
    "for cluster_num in range(0,10):\n",
    "    words = []\n",
    "    for key, elem in ldamodel.show_topic(cluster_num,100):\n",
    "        if key not in stopwords.words(\"english\"):\n",
    "            words.append(key)\n",
    "    cluster_nums.append(cluster_num)\n",
    "    cluster_words.append(words[:10])\n",
    "    \n",
    "output_X3 = pd.DataFrame( data={\"cluster\":cluster_nums, \"clustered_words\":cluster_words} )\n",
    "output_X3"
   ]
  },
  {
   "cell_type": "markdown",
   "metadata": {},
   "source": [
    "## 20 Topics"
   ]
  },
  {
   "cell_type": "code",
   "execution_count": 20,
   "metadata": {
    "collapsed": true
   },
   "outputs": [],
   "source": [
    "ldamodel_20 = LdaModel(doc_term_matrix, num_topics=20, id2word = dictionary, passes=20)"
   ]
  },
  {
   "cell_type": "code",
   "execution_count": 22,
   "metadata": {
    "collapsed": false
   },
   "outputs": [
    {
     "data": {
      "text/html": [
       "<div>\n",
       "<table border=\"1\" class=\"dataframe\">\n",
       "  <thead>\n",
       "    <tr style=\"text-align: right;\">\n",
       "      <th></th>\n",
       "      <th>cluster</th>\n",
       "      <th>clustered_words</th>\n",
       "    </tr>\n",
       "  </thead>\n",
       "  <tbody>\n",
       "    <tr>\n",
       "      <th>0</th>\n",
       "      <td>0</td>\n",
       "      <td>[woman, actress, husband, role, girl, character, mother, performance, daughter, lady]</td>\n",
       "    </tr>\n",
       "    <tr>\n",
       "      <th>1</th>\n",
       "      <td>1</td>\n",
       "      <td>[love, family, girl, comedy, old, young, movie, two, little, one]</td>\n",
       "    </tr>\n",
       "    <tr>\n",
       "      <th>2</th>\n",
       "      <td>2</td>\n",
       "      <td>[film, movie, good, one, story, well, like, films, much, great]</td>\n",
       "    </tr>\n",
       "    <tr>\n",
       "      <th>3</th>\n",
       "      <td>3</td>\n",
       "      <td>[christmas, rock, band, santa, chuck, ned, jim, cube, bugs, carrey]</td>\n",
       "    </tr>\n",
       "    <tr>\n",
       "      <th>4</th>\n",
       "      <td>4</td>\n",
       "      <td>[disney, cartoon, animation, keaton, animated, king, cinderella, cartoons, cat, jerry]</td>\n",
       "    </tr>\n",
       "    <tr>\n",
       "      <th>5</th>\n",
       "      <td>5</td>\n",
       "      <td>[sinatra, page, football, bettie, garbo, frank, salman, vivian, gable, beckham]</td>\n",
       "    </tr>\n",
       "    <tr>\n",
       "      <th>6</th>\n",
       "      <td>6</td>\n",
       "      <td>[show, series, episode, tv, episodes, season, shows, television, characters, first]</td>\n",
       "    </tr>\n",
       "    <tr>\n",
       "      <th>7</th>\n",
       "      <td>7</td>\n",
       "      <td>[man, one, wife, get, back, gets, also, character, plays, time]</td>\n",
       "    </tr>\n",
       "    <tr>\n",
       "      <th>8</th>\n",
       "      <td>8</td>\n",
       "      <td>[movie, like, one, would, see, really, film, good, think, time]</td>\n",
       "    </tr>\n",
       "    <tr>\n",
       "      <th>9</th>\n",
       "      <td>9</td>\n",
       "      <td>[jackie, chan, adam, sandler, smith, elvis, burton, bollywood, indian, kapoor]</td>\n",
       "    </tr>\n",
       "    <tr>\n",
       "      <th>10</th>\n",
       "      <td>10</td>\n",
       "      <td>[japanese, freddy, tracy, sarah, metal, japan, miike, nightmare, godzilla, omen]</td>\n",
       "    </tr>\n",
       "    <tr>\n",
       "      <th>11</th>\n",
       "      <td>11</td>\n",
       "      <td>[war, world, american, military, earth, army, soldiers, would, men, planet]</td>\n",
       "    </tr>\n",
       "    <tr>\n",
       "      <th>12</th>\n",
       "      <td>12</td>\n",
       "      <td>[christian, luke, match, henry, jesus, christ, star, wars, bible, hartley]</td>\n",
       "    </tr>\n",
       "    <tr>\n",
       "      <th>13</th>\n",
       "      <td>13</td>\n",
       "      <td>[film, life, story, people, one, us, world, characters, love, two]</td>\n",
       "    </tr>\n",
       "    <tr>\n",
       "      <th>14</th>\n",
       "      <td>14</td>\n",
       "      <td>[tarzan, jack, jane, dick, matthau, ape, simon, lemmon, raines, modesty]</td>\n",
       "    </tr>\n",
       "    <tr>\n",
       "      <th>15</th>\n",
       "      <td>15</td>\n",
       "      <td>[anime, bourne, animation, seagal, falk, matrix, joe, jackson, prison, cowboy]</td>\n",
       "    </tr>\n",
       "    <tr>\n",
       "      <th>16</th>\n",
       "      <td>16</td>\n",
       "      <td>[bad, film, one, even, like, movie, plot, horror, get, make]</td>\n",
       "    </tr>\n",
       "    <tr>\n",
       "      <th>17</th>\n",
       "      <td>17</td>\n",
       "      <td>[film, one, time, would, films, well, years, made, best, even]</td>\n",
       "    </tr>\n",
       "    <tr>\n",
       "      <th>18</th>\n",
       "      <td>18</td>\n",
       "      <td>[funny, fi, game, sci, comedy, batman, superman, eddie, jokes, holmes]</td>\n",
       "    </tr>\n",
       "    <tr>\n",
       "      <th>19</th>\n",
       "      <td>19</td>\n",
       "      <td>[book, jane, novel, version, read, adaptation, books, rochester, hitler, van]</td>\n",
       "    </tr>\n",
       "  </tbody>\n",
       "</table>\n",
       "</div>"
      ],
      "text/plain": [
       "    cluster  \\\n",
       "0         0   \n",
       "1         1   \n",
       "2         2   \n",
       "3         3   \n",
       "4         4   \n",
       "5         5   \n",
       "6         6   \n",
       "7         7   \n",
       "8         8   \n",
       "9         9   \n",
       "10       10   \n",
       "11       11   \n",
       "12       12   \n",
       "13       13   \n",
       "14       14   \n",
       "15       15   \n",
       "16       16   \n",
       "17       17   \n",
       "18       18   \n",
       "19       19   \n",
       "\n",
       "                                                                           clustered_words  \n",
       "0    [woman, actress, husband, role, girl, character, mother, performance, daughter, lady]  \n",
       "1                        [love, family, girl, comedy, old, young, movie, two, little, one]  \n",
       "2                          [film, movie, good, one, story, well, like, films, much, great]  \n",
       "3                      [christmas, rock, band, santa, chuck, ned, jim, cube, bugs, carrey]  \n",
       "4   [disney, cartoon, animation, keaton, animated, king, cinderella, cartoons, cat, jerry]  \n",
       "5          [sinatra, page, football, bettie, garbo, frank, salman, vivian, gable, beckham]  \n",
       "6      [show, series, episode, tv, episodes, season, shows, television, characters, first]  \n",
       "7                          [man, one, wife, get, back, gets, also, character, plays, time]  \n",
       "8                          [movie, like, one, would, see, really, film, good, think, time]  \n",
       "9           [jackie, chan, adam, sandler, smith, elvis, burton, bollywood, indian, kapoor]  \n",
       "10        [japanese, freddy, tracy, sarah, metal, japan, miike, nightmare, godzilla, omen]  \n",
       "11             [war, world, american, military, earth, army, soldiers, would, men, planet]  \n",
       "12              [christian, luke, match, henry, jesus, christ, star, wars, bible, hartley]  \n",
       "13                      [film, life, story, people, one, us, world, characters, love, two]  \n",
       "14                [tarzan, jack, jane, dick, matthau, ape, simon, lemmon, raines, modesty]  \n",
       "15          [anime, bourne, animation, seagal, falk, matrix, joe, jackson, prison, cowboy]  \n",
       "16                            [bad, film, one, even, like, movie, plot, horror, get, make]  \n",
       "17                          [film, one, time, would, films, well, years, made, best, even]  \n",
       "18                  [funny, fi, game, sci, comedy, batman, superman, eddie, jokes, holmes]  \n",
       "19           [book, jane, novel, version, read, adaptation, books, rochester, hitler, van]  "
      ]
     },
     "execution_count": 22,
     "metadata": {},
     "output_type": "execute_result"
    }
   ],
   "source": [
    "cluster_nums = []\n",
    "cluster_words = []\n",
    "\n",
    "for cluster_num in range(0,20):\n",
    "    words = []\n",
    "    for key, elem in ldamodel_20.show_topic(cluster_num,100):\n",
    "        if key not in stopwords.words(\"english\"):\n",
    "            words.append(key)\n",
    "    cluster_nums.append(cluster_num)\n",
    "    cluster_words.append(words[:10])\n",
    "    \n",
    "output_X4 = pd.DataFrame( data={\"cluster\":cluster_nums, \"clustered_words\":cluster_words} )\n",
    "output_X4"
   ]
  },
  {
   "cell_type": "code",
   "execution_count": 27,
   "metadata": {
    "collapsed": true
   },
   "outputs": [],
   "source": [
    "def get_probs( review, model, dictionary,c ):\n",
    "    bag = np.zeros( c, dtype=\"float32\" )\n",
    "    for i,j in model.get_document_topics(dictionary.doc2bow(review)):\n",
    "        bag[i] = j\n",
    "    return bag"
   ]
  },
  {
   "cell_type": "code",
   "execution_count": 34,
   "metadata": {
    "collapsed": false
   },
   "outputs": [],
   "source": [
    "X3 = np.zeros( (train[\"review\"].size, 10), dtype=\"float32\" )\n",
    "c = 0\n",
    "for review in train_r:\n",
    "    X3[c] = get_probs( review, ldamodel, dictionary,10 )\n",
    "    c += 1\n",
    "\n",
    "kaggle_test_3 = np.zeros(( test[\"review\"].size, 10), dtype=\"float32\" )\n",
    "\n",
    "c = 0\n",
    "for review in test_r:\n",
    "    kaggle_test_3[c] = get_probs( review, ldamodel, dictionary,10 )\n",
    "    c += 1\n",
    "\n",
    "X4 = np.zeros( (train[\"review\"].size, 20), dtype=\"float32\" )\n",
    "c = 0\n",
    "for review in train_r:\n",
    "    X4[c] = get_probs( review, ldamodel_20, dictionary , 20)\n",
    "    c += 1\n",
    "\n",
    "kaggle_test_4 = np.zeros(( test[\"review\"].size, 20), dtype=\"float32\" )\n",
    "\n",
    "c = 0\n",
    "for review in test_r:\n",
    "    kaggle_test_4[c] =  get_probs( review, ldamodel_20, dictionary , 20)\n",
    "    c += 1"
   ]
  },
  {
   "cell_type": "code",
   "execution_count": 35,
   "metadata": {
    "collapsed": false
   },
   "outputs": [
    {
     "name": "stdout",
     "output_type": "stream",
     "text": [
      "X3       (25000, 10)\n",
      "X3 test  (25000, 10)\n",
      "X4       (25000, 20)\n",
      "X4 test  (25000, 20)\n"
     ]
    }
   ],
   "source": [
    "print (\"X3      \",X3.shape)\n",
    "print (\"X3 test \",kaggle_test_3.shape)\n",
    "print (\"X4      \",X4.shape)\n",
    "print (\"X4 test \",kaggle_test_4.shape)\n",
    "np.save('X3',X3)\n",
    "np.save('X3_test', kaggle_test_3)\n",
    "np.save('X4', X4)\n",
    "np.save('X4_test', kaggle_test_4)"
   ]
  },
  {
   "cell_type": "code",
   "execution_count": 60,
   "metadata": {
    "collapsed": true
   },
   "outputs": [],
   "source": [
    "X3 = np.load('X3.npy')\n",
    "kaggle_test_3 = np.load('X3_test.npy')\n",
    "X4 = np.load('X4.npy')\n",
    "kaggle_test_4 = np.load('X4_test.npy')"
   ]
  },
  {
   "cell_type": "markdown",
   "metadata": {},
   "source": [
    "# 3 Classification"
   ]
  },
  {
   "cell_type": "code",
   "execution_count": 5,
   "metadata": {
    "collapsed": false
   },
   "outputs": [],
   "source": [
    "from sklearn.ensemble import RandomForestClassifier\n",
    "import matplotlib.pyplot as plt\n",
    "%matplotlib inline\n",
    "from sklearn.metrics import roc_auc_score\n",
    "from sklearn.model_selection import cross_val_score\n",
    "from sklearn import metrics\n",
    "from sklearn.model_selection import train_test_split\n",
    "import numpy as np\n",
    "from sklearn.ensemble import RandomForestClassifier\n",
    "from sklearn.model_selection import GridSearchCV\n",
    "from sklearn.metrics import accuracy_score"
   ]
  },
  {
   "cell_type": "code",
   "execution_count": 50,
   "metadata": {
    "collapsed": true
   },
   "outputs": [],
   "source": [
    "def gridsearch(X):\n",
    "    trainX, testX, trainY, testY = train_test_split(X, train[\"sentiment\"], test_size=0.2, random_state=0)\n",
    "    clf = RandomForestClassifier(random_state=0)\n",
    "    scoring = 'roc_auc'\n",
    "    param_grid = {'n_estimators': [75, 100],\n",
    "                  'max_features': ['auto', 'log2',None, 0.4],\n",
    "                  'min_samples_leaf':[1, 10, 20],\n",
    "                  'max_depth':[None, 35, 70, 100],\n",
    "                  \"bootstrap\": [True, False],\n",
    "                  'min_samples_split':[2, 8, 16],\n",
    "                  \"criterion\": [\"gini\", \"entropy\"]}\n",
    "    grid_search = GridSearchCV(clf, param_grid=param_grid, cv=5, scoring = scoring,  n_jobs=-1, verbose=3)\n",
    "    grid_search.fit(trainX, trainY)\n",
    "    predY = grid_search.predict(testX)\n",
    "    acc = accuracy_score(testY, predY)\n",
    "    probs = grid_search.predict_proba(testX)\n",
    "    preds = probs[:,1]\n",
    "    fpr, tpr, threshold = metrics.roc_curve(testY, preds)\n",
    "    roc_auc = metrics.auc(fpr, tpr)\n",
    "    return grid_search,fpr,tpr,acc,roc_auc"
   ]
  },
  {
   "cell_type": "markdown",
   "metadata": {},
   "source": [
    "# Classifier 1"
   ]
  },
  {
   "cell_type": "code",
   "execution_count": 64,
   "metadata": {
    "collapsed": false
   },
   "outputs": [
    {
     "name": "stdout",
     "output_type": "stream",
     "text": [
      "Accuracy : 0.6376 \n",
      "AUC : 0.684367965407\n"
     ]
    }
   ],
   "source": [
    "#grid_search1,fpr1,tpr1,acc1,roc_auc1 = gridsearch(X1)\n",
    "print ('Accuracy :',acc1,'\\nAUC :',roc_auc1)"
   ]
  },
  {
   "cell_type": "markdown",
   "metadata": {
    "collapsed": false
   },
   "source": [
    "# Classifier 2"
   ]
  },
  {
   "cell_type": "code",
   "execution_count": 56,
   "metadata": {
    "collapsed": false
   },
   "outputs": [
    {
     "name": "stdout",
     "output_type": "stream",
     "text": [
      "Accuracy : 0.5788 \n",
      "AUC : 0.620224479552\n"
     ]
    }
   ],
   "source": [
    "#grid_search2,fpr2,tpr2,acc2,roc_auc2 = gridsearch(X2)\n",
    "print ('Accuracy :',acc2,'\\nAUC :',roc_auc2)"
   ]
  },
  {
   "cell_type": "markdown",
   "metadata": {},
   "source": [
    "# Classifier 3"
   ]
  },
  {
   "cell_type": "code",
   "execution_count": 66,
   "metadata": {
    "collapsed": false
   },
   "outputs": [
    {
     "name": "stdout",
     "output_type": "stream",
     "text": [
      "Accuracy : 0.7196 \n",
      "AUC : 0.79281418302\n"
     ]
    }
   ],
   "source": [
    "#grid_search3,fpr3,tpr3,acc3,roc_auc3 = gridsearch(X3)\n",
    "print ('Accuracy :',acc3,'\\nAUC :',roc_auc3)"
   ]
  },
  {
   "cell_type": "markdown",
   "metadata": {},
   "source": [
    "# Classifier 4"
   ]
  },
  {
   "cell_type": "code",
   "execution_count": 68,
   "metadata": {
    "collapsed": false
   },
   "outputs": [
    {
     "name": "stdout",
     "output_type": "stream",
     "text": [
      "Accuracy : 0.8354 \n",
      "AUC : 0.906687521288\n"
     ]
    }
   ],
   "source": [
    "#grid_search4,fpr4,tpr4,acc4,roc_auc4 = gridsearch(X4)\n",
    "print ('Accuracy :',acc4,'\\nAUC :',roc_auc4)"
   ]
  },
  {
   "cell_type": "code",
   "execution_count": 69,
   "metadata": {
    "collapsed": false
   },
   "outputs": [
    {
     "data": {
      "image/png": "[encoded data removed]",
      "text/plain": [
       "<matplotlib.figure.Figure at 0x2ff697a58>"
      ]
     },
     "metadata": {},
     "output_type": "display_data"
    }
   ],
   "source": [
    "#Plot ROC Curve\n",
    "plt.figure(figsize=(10,7))\n",
    "plt.title('Receiver Operating Characteristic',fontsize=20)\n",
    "plt.plot(fpr1, tpr1, 'b', label = 'AUC1 = %0.2f' % roc_auc1)\n",
    "plt.plot(fpr2, tpr2, 'g', label = 'AUC2 = %0.2f' % roc_auc2)\n",
    "plt.plot(fpr3, tpr3, 'r', label = 'AUC3 = %0.2f' % roc_auc3)\n",
    "plt.plot(fpr4, tpr4, 'y', label = 'AUC4 = %0.2f' % roc_auc4)\n",
    "plt.legend(loc = 'lower right')\n",
    "plt.plot([0, 1], [0, 1],'c--')\n",
    "plt.xlim([0, 1])\n",
    "plt.ylim([0, 1])\n",
    "plt.ylabel('True Positive Rate')\n",
    "plt.xlabel('False Positive Rate')\n",
    "plt.show()"
   ]
  },
  {
   "cell_type": "markdown",
   "metadata": {},
   "source": [
    "# Kaggle"
   ]
  },
  {
   "cell_type": "code",
   "execution_count": 50,
   "metadata": {
    "collapsed": true
   },
   "outputs": [],
   "source": [
    "M1 = RandomForestClassifier(bootstrap=True, \n",
    "                            criterion= 'entropy',\n",
    "                            max_depth = 35, \n",
    "                            max_features = 'log2', \n",
    "                            min_samples_leaf = 20, \n",
    "                            min_samples_split = 16, \n",
    "                            n_estimators = 100)\n",
    "\n",
    "M1 = M1.fit(X1, train[\"sentiment\"])\n",
    "Y1 = M1.predict(kaggle_test_1)\n",
    "\n",
    "output = pd.DataFrame( data={\"id\":test[\"id\"], \"sentiment\":Y1} )\n",
    "output.to_csv( \"X1_kaggle.csv\", index=False, quoting=3 )"
   ]
  },
  {
   "cell_type": "markdown",
   "metadata": {},
   "source": [
    "Classifier 1 Kaggle score : 0.62560"
   ]
  },
  {
   "cell_type": "markdown",
   "metadata": {},
   "source": [
    "<img src=\"X1.PNG\">"
   ]
  },
  {
   "cell_type": "code",
   "execution_count": 57,
   "metadata": {
    "collapsed": true
   },
   "outputs": [],
   "source": [
    "M2 = RandomForestClassifier(bootstrap=True, \n",
    "                            criterion= 'entropy',\n",
    "                            max_depth = 35, \n",
    "                            max_features = 'auto', \n",
    "                            min_samples_leaf = 20, \n",
    "                            min_samples_split = 16, \n",
    "                            n_estimators = 100)\n",
    "M2 = M2.fit(X2, train[\"sentiment\"])\n",
    "Y2 = M2.predict(kaggle_test_2)\n",
    "\n",
    "output = pd.DataFrame( data={\"id\":test[\"id\"], \"sentiment\":Y2} )\n",
    "output.to_csv( \"X2_kaggle.csv\", index=False, quoting=3 )"
   ]
  },
  {
   "cell_type": "markdown",
   "metadata": {},
   "source": [
    "Classifier 2 Kaggle score : 0.5812"
   ]
  },
  {
   "cell_type": "markdown",
   "metadata": {},
   "source": [
    "<img src=\"X2.PNG\">"
   ]
  },
  {
   "cell_type": "code",
   "execution_count": 52,
   "metadata": {
    "collapsed": true
   },
   "outputs": [],
   "source": [
    "M3 = RandomForestClassifier(bootstrap=True, \n",
    "                            criterion= 'entropy',\n",
    "                            max_depth = 70, \n",
    "                            max_features = 'auto', \n",
    "                            min_samples_leaf = 20, \n",
    "                            min_samples_split = 16, \n",
    "                            n_estimators = 100)\n",
    "M3 = M3.fit(X3, train[\"sentiment\"])\n",
    "Y3 = M3.predict(kaggle_test_3)\n",
    "\n",
    "output = pd.DataFrame( data={\"id\":test[\"id\"], \"sentiment\":Y3} )\n",
    "output.to_csv( \"X3_kaggle.csv\", index=False, quoting=3 )"
   ]
  },
  {
   "cell_type": "markdown",
   "metadata": {},
   "source": [
    "Classifier 3 Kaggle score : 0.69324"
   ]
  },
  {
   "cell_type": "markdown",
   "metadata": {},
   "source": [
    "<img src=\"X3.PNG\">"
   ]
  },
  {
   "cell_type": "code",
   "execution_count": 55,
   "metadata": {
    "collapsed": true
   },
   "outputs": [],
   "source": [
    "M4 = RandomForestClassifier(bootstrap=True, \n",
    "                            criterion= 'gini',\n",
    "                            max_depth = 35, \n",
    "                            max_features = 'log2', \n",
    "                            min_samples_leaf = 10, \n",
    "                            min_samples_split = 8, \n",
    "                            n_estimators = 100)\n",
    "M4 = M4.fit(X4, train[\"sentiment\"])\n",
    "Y4 = M4.predict(kaggle_test_4)\n",
    "\n",
    "output = pd.DataFrame( data={\"id\":test[\"id\"], \"sentiment\":Y4} )\n",
    "output.to_csv( \"X4_kaggle.csv\", index=False, quoting=3 )"
   ]
  },
  {
   "cell_type": "markdown",
   "metadata": {},
   "source": [
    "Classifier 4 Kaggle score : 0.82604"
   ]
  },
  {
   "cell_type": "markdown",
   "metadata": {},
   "source": [
    "<img src=\"X4.PNG\">"
   ]
  },
  {
   "cell_type": "markdown",
   "metadata": {},
   "source": [
    "## 3 C\n",
    "Which featurization technique works best for sentiment classification? Is this better or worse than the simple bag-of-words approach? What are at least three things you could do to improve the efficacy of the classifier?"
   ]
  },
  {
   "cell_type": "markdown",
   "metadata": {},
   "source": [
    "#### Which featurization technique works best for sentiment classification?\n",
    "\n",
    "* Among the above 4 featurization techniques, LDA for 20 topics (M4 classifier) works best with an AUC of 90% on train test split data followed by LDA for 10 topics AUC ~80% for train test split data. Word2Vector using the google news model performs the worst AUC ~60% for train test split data. \n",
    "* The Kaggle scores were also reflecting the same ranking. M4 classifier gave the highest score of 82% followed by M3 ~70%, M1 ~62% and M2 ~58%.\n",
    "* LDA model with 20 topics and 10 topics were trained with number of passes = 20 which took time to create but performed significantly better. If we increase the number of topics then the performace will further increase.\n",
    "* Google word2vec performed the worst. This could be because using news trained model over movie reviews have less overlapping. \n",
    "* Also the number of clusters being set to 10 combines many unsimilar words also together dimininshing the value of the word. \n",
    "* Over this, I removed words from the google word2vec model that were not required as a preprocessing step. \n",
    "\n",
    "#### Is this better or worse than the simple bag-of-words approach? \n",
    "* We implemented the simple bag of words in homework 1 which had auc of 80%-90% on train test split data. The kaggle score was also 80%. \n",
    "* This shows that simple bag of words was better than word2vec but it is on par with respect to LDA. Although word2vec and lda are powerful methods for sentiment classification, we cannot compare them directly as the number of features we used is 10 or 20 compared to the 5000 we used in homework1. \n",
    "* Kmeans with higher number of clusters will drastically improve the performace. As mentioned using a pretrained google model on news with unrequired words removed might not be the best choice for moview review classification. \n",
    "* LDA model trained on the training data corpus performed well with a kaggle score of 82% in spite of the reduced number of features!\n",
    "\n",
    "#### What are at least three things you could do to improve the efficacy of the classifier?\n",
    "* Increase the number of features more than 10/20. We definitely need to have features in 100s to expect good performace.\n",
    "* Using batch LDA instead of online LDA that we used here. In online the model is incrementally trained depending on the data. In batch LDA all the data is seen at once.\n",
    "* Using TF-IDF weights to create the corpus for LDA model instead of bag of words method so as to allocate appropriate weights to rare topics and frequent ones might help in making the performace better.\n"
   ]
  },
  {
   "cell_type": "code",
   "execution_count": 8,
   "metadata": {
    "collapsed": false
   },
   "outputs": [],
   "source": [
    "M1 = RandomForestClassifier(bootstrap=True, \n",
    "                            criterion= 'entropy',\n",
    "                            max_depth = 35, \n",
    "                            max_features = 'log2', \n",
    "                            min_samples_leaf = 20, \n",
    "                            min_samples_split = 16, \n",
    "                            n_estimators = 100)\n",
    "\n",
    "trainX, testX, trainY, testY = train_test_split(X1, train[\"sentiment\"], test_size=0.2, random_state=0)\n",
    "\n",
    "M1 = M1.fit(trainX,trainY)\n",
    "predY = M1.predict(testX)\n",
    "\n",
    "acc = accuracy_score(testY, predY)\n",
    "probs = M1.predict_proba(testX)\n",
    "preds = probs[:,1]\n",
    "fpr, tpr, threshold = metrics.roc_curve(testY, preds)\n",
    "roc_auc = metrics.auc(fpr, tpr)"
   ]
  },
  {
   "cell_type": "code",
   "execution_count": 9,
   "metadata": {
    "collapsed": false
   },
   "outputs": [
    {
     "data": {
      "text/plain": [
       "(array([  0.00000000e+00,   0.00000000e+00,   3.92464678e-04, ...,\n",
       "          9.98430141e-01,   9.98430141e-01,   1.00000000e+00]),\n",
       " array([  4.07830343e-04,   4.89396411e-03,   4.89396411e-03, ...,\n",
       "          9.99592170e-01,   1.00000000e+00,   1.00000000e+00]))"
      ]
     },
     "execution_count": 9,
     "metadata": {},
     "output_type": "execute_result"
    }
   ],
   "source": [
    "fpr, tpr"
   ]
  },
  {
   "cell_type": "code",
   "execution_count": 10,
   "metadata": {
    "collapsed": false
   },
   "outputs": [
    {
     "data": {
      "text/plain": [
       "array([  0.00000000e+00,   0.00000000e+00,   3.92464678e-04, ...,\n",
       "         9.98430141e-01,   9.98430141e-01,   1.00000000e+00])"
      ]
     },
     "execution_count": 10,
     "metadata": {},
     "output_type": "execute_result"
    }
   ],
   "source": [
    "fpr"
   ]
  },
  {
   "cell_type": "code",
   "execution_count": null,
   "metadata": {
    "collapsed": true
   },
   "outputs": [],
   "source": []
  }
 ],
 "metadata": {
  "anaconda-cloud": {},
  "kernelspec": {
   "display_name": "Python [Root]",
   "language": "python",
   "name": "Python [Root]"
  },
  "language_info": {
   "codemirror_mode": {
    "name": "ipython",
    "version": 3
   },
   "file_extension": ".py",
   "mimetype": "text/x-python",
   "name": "python",
   "nbconvert_exporter": "python",
   "pygments_lexer": "ipython3",
   "version": "3.5.2"
  }
 },
 "nbformat": 4,
 "nbformat_minor": 2
}
