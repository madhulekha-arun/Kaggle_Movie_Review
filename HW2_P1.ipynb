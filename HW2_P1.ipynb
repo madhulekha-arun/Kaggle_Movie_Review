{
 "cells": [
  {
   "cell_type": "markdown",
   "metadata": {
    "collapsed": true
   },
   "source": [
    "# Homework 2\n",
    "\n",
    "## Problem 1"
   ]
  },
  {
   "cell_type": "code",
   "execution_count": 1,
   "metadata": {
    "collapsed": true
   },
   "outputs": [],
   "source": [
    "import pandas as pd\n",
    "import numpy as np\n",
    "from scipy.sparse import csr_matrix\n",
    "\n",
    "train_a = pd.read_csv('ml-100k/ua.base','\\t',names = ['user id', 'item id', 'rating', 'timestamp'])\n",
    "test_a = pd.read_csv('ml-100k/ua.test','\\t',names = ['user id', 'item id', 'rating', 'timestamp'])\n",
    "train_data = pd.read_csv('ml-100k/u.data','\\t',names = ['user id', 'item id', 'rating', 'timestamp'])"
   ]
  },
  {
   "cell_type": "code",
   "execution_count": 2,
   "metadata": {
    "collapsed": false
   },
   "outputs": [],
   "source": [
    "rating_per_movie_count = train_data.groupby('item id').rating.count()\n",
    "rating_per_user_count = train_data.groupby('user id').rating.count()"
   ]
  },
  {
   "cell_type": "markdown",
   "metadata": {},
   "source": [
    "### #movie_ratngs = number of ratings for a movie"
   ]
  },
  {
   "cell_type": "code",
   "execution_count": 15,
   "metadata": {
    "collapsed": false
   },
   "outputs": [
    {
     "data": {
      "image/png": "[encoded data removed]",
      "text/plain": [
       "<matplotlib.figure.Figure at 0x11228b518>"
      ]
     },
     "metadata": {},
     "output_type": "display_data"
    }
   ],
   "source": [
    "import matplotlib.pyplot as plt\n",
    "%matplotlib inline\n",
    "\n",
    "plt.figure(figsize=(15,6))\n",
    "plt.hist(rating_per_movie_count, bins='auto')  \n",
    "plt.title('Number of ratings for a movie')\n",
    "plt.xlabel('Movie ID')\n",
    "plt.ylabel('Number of Ratings')\n",
    "plt.show()"
   ]
  },
  {
   "cell_type": "markdown",
   "metadata": {},
   "source": [
    "### #user_ratings = number of ratings for a user"
   ]
  },
  {
   "cell_type": "code",
   "execution_count": 16,
   "metadata": {
    "collapsed": false
   },
   "outputs": [
    {
     "data": {
      "image/png": "[encoded data removed]",
      "text/plain": [
       "<matplotlib.figure.Figure at 0x112766128>"
      ]
     },
     "metadata": {},
     "output_type": "display_data"
    }
   ],
   "source": [
    "import matplotlib.pyplot as plt\n",
    "%matplotlib inline\n",
    "\n",
    "plt.figure(figsize=(15,6))\n",
    "plt.hist(rating_per_user_count, bins='auto')  \n",
    "plt.title('Number of ratings for a user')\n",
    "plt.xlabel('User ID')\n",
    "plt.ylabel('Number of Ratings')\n",
    "plt.show()"
   ]
  },
  {
   "cell_type": "markdown",
   "metadata": {},
   "source": [
    "## Baseline Prediction"
   ]
  },
  {
   "cell_type": "code",
   "execution_count": 17,
   "metadata": {
    "collapsed": false
   },
   "outputs": [],
   "source": [
    "user_count = train_a['user id'].max()\n",
    "item_count = train_a['item id'].max()\n",
    "\n",
    "users = train_a['user id'].subtract(1)\n",
    "items = train_a['item id'].subtract(1)\n",
    "rating = train_a['rating']\n",
    "\n",
    "A = csr_matrix((rating,(users,items)),dtype = np.float)\n",
    "\n",
    "user_count_t = test_a['user id'].max()\n",
    "item_count_t = test_a['item id'].max()\n",
    "\n",
    "users_t = test_a['user id'].subtract(1)\n",
    "items_t = test_a['item id'].subtract(1)\n",
    "rating_t = test_a['rating']\n",
    "\n",
    "R = csr_matrix((rating_t,(users_t,items_t)),dtype = np.float)"
   ]
  },
  {
   "cell_type": "code",
   "execution_count": 18,
   "metadata": {
    "collapsed": false
   },
   "outputs": [],
   "source": [
    "def compute_mu(A):\n",
    "    \n",
    "    user_count,item_count = A.shape  \n",
    "    full_sum = A.sum(axis=None)  \n",
    "    nnz = A.getnnz(axis=None)   \n",
    "    mu = full_sum / nnz\n",
    "    mu_full = np.tile(mu,(user_count,item_count))\n",
    "    \n",
    "    return mu,mu_full"
   ]
  },
  {
   "cell_type": "code",
   "execution_count": 19,
   "metadata": {
    "collapsed": false
   },
   "outputs": [],
   "source": [
    "def compute_bi(A):\n",
    "    \n",
    "    lambda2 = 25\n",
    "    user_count,item_count = A.shape\n",
    "\n",
    "    col_sum = A.sum(axis = 0)\n",
    "    c = np.array(col_sum)\n",
    "    nnz = A.getnnz(axis = 0)\n",
    "    \n",
    "    bi = (col_sum[0] - nnz*mu) / (lambda2+nnz)\n",
    "    \n",
    "    bi_full = np.tile(bi,(user_count,1))\n",
    "    \n",
    "    return bi,bi_full"
   ]
  },
  {
   "cell_type": "code",
   "execution_count": 20,
   "metadata": {
    "collapsed": false
   },
   "outputs": [],
   "source": [
    "def compute_bu(A):\n",
    "    \n",
    "    lambda3 = 10\n",
    "    user_count,item_count = A.shape\n",
    "\n",
    "    row_sum = A.sum(axis = 1)\n",
    "    nnz = A.getnnz(axis = 1)\n",
    "\n",
    "    bic = []\n",
    "\n",
    "    for user in range(user_count) :\n",
    "\n",
    "        _,item_ids = A.getrow(user).nonzero()\n",
    "        bic.append(bi[0,[item_ids]].sum())\n",
    "\n",
    "    bu = (row_sum.reshape(user_count,) - nnz*mu - np.asarray(bic)) / (lambda3+nnz)   \n",
    "    bu_full = np.tile(bu.transpose(),(1,item_count))\n",
    "    \n",
    "    return bu,bu_full"
   ]
  },
  {
   "cell_type": "markdown",
   "metadata": {},
   "source": [
    "## Test RMSE"
   ]
  },
  {
   "cell_type": "code",
   "execution_count": 21,
   "metadata": {
    "collapsed": false
   },
   "outputs": [],
   "source": [
    "def compute_rmse(A,R) :\n",
    "    \n",
    "    #mu,mu_full = compute_mu(A)\n",
    "    #bi,bi_full = compute_bi(A)\n",
    "    bu,bu_full = compute_bu(A)\n",
    "    \n",
    "    T = mu_full + bu_full + bi_full\n",
    "\n",
    "    rows, cols = R.nonzero()\n",
    "    rmse = 0\n",
    "    count = 0\n",
    "\n",
    "    for row,col in zip(rows,cols) :\n",
    "        \n",
    "#         t = mu + bu[row] + bi[0,col]\n",
    "#         rmse += pow((R[row,col]-t),2)\n",
    "        rmse += pow((R[row,col]-T[row,col]),2)\n",
    "        count += 1\n",
    "\n",
    "    rmse = pow(rmse/count,0.5)\n",
    "    \n",
    "    return rmse, T\n",
    "    "
   ]
  },
  {
   "cell_type": "code",
   "execution_count": 24,
   "metadata": {
    "collapsed": false
   },
   "outputs": [
    {
     "name": "stdout",
     "output_type": "stream",
     "text": [
      "Rmse for test data :  0.966481783888\n"
     ]
    }
   ],
   "source": [
    "mu,mu_full = compute_mu(A)\n",
    "bi,bi_full = compute_bi(A)\n",
    "bu,bu_full = compute_bu(A)\n",
    "rmse,T = compute_rmse(A,R)\n",
    "T = csr_matrix(T)\n",
    "print (\"Rmse for test data : \",rmse)"
   ]
  },
  {
   "cell_type": "markdown",
   "metadata": {},
   "source": [
    "### RMSE for user for 5 groups"
   ]
  },
  {
   "cell_type": "code",
   "execution_count": 98,
   "metadata": {
    "collapsed": false
   },
   "outputs": [],
   "source": [
    "col_sum = A.sum(axis=1)\n",
    "nnz = A.getnnz(axis=1)\n",
    "user_count,item_count = A.shape\n",
    "\n",
    "user_avg = col_sum.reshape(user_count,) / nnz\n",
    "\n",
    "min_rating = user_avg.min()\n",
    "max_rating = user_avg.max()\n",
    "\n",
    "segment = (max_rating - min_rating)/5\n",
    "\n",
    "user_avg = np.asarray(user_avg)\n",
    "user_avg = user_avg.reshape(user_count)"
   ]
  },
  {
   "cell_type": "code",
   "execution_count": 99,
   "metadata": {
    "collapsed": false
   },
   "outputs": [],
   "source": [
    "def rmse_user(user_ids,R,T):\n",
    "    rmse = 0\n",
    "    count = 0\n",
    "    for u in user_ids[0]:\n",
    "        _,items = R.getrow(u).nonzero()   \n",
    "        for i in items:\n",
    "            rmse += pow((R[u,i] - T[u,i]),2) \n",
    "            count += 1\n",
    "            \n",
    "    rmse = pow(rmse/count,0.5)\n",
    "    return rmse\n",
    "    "
   ]
  },
  {
   "cell_type": "code",
   "execution_count": 101,
   "metadata": {
    "collapsed": false
   },
   "outputs": [
    {
     "data": {
      "image/png": "[encoded data removed]",
      "text/plain": [
       "<matplotlib.figure.Figure at 0x11291e438>"
      ]
     },
     "metadata": {},
     "output_type": "display_data"
    }
   ],
   "source": [
    "grp5 = []\n",
    "x = []\n",
    "end = min_rating\n",
    "for i in range(5):\n",
    "    prev = end\n",
    "    x.append(prev)\n",
    "    end = prev + segment\n",
    "    user_ids = np.where((user_avg>=prev) & (user_avg<end))\n",
    "    grp5.append(rmse_user(user_ids,R,T))\n",
    "\n",
    "plt.figure(figsize=(7,4))\n",
    "plt.bar(x, grp5, width=0.6, align='edge')\n",
    "plt.ylabel('RMSE')\n",
    "plt.xlabel('Average ratings per user')\n",
    "plt.title('RMSEs of users divided in 5 groups')\n",
    "plt.grid(True)\n",
    "plt.show()\n"
   ]
  },
  {
   "cell_type": "markdown",
   "metadata": {
    "collapsed": true
   },
   "source": [
    "## Item Similarity"
   ]
  },
  {
   "cell_type": "code",
   "execution_count": 48,
   "metadata": {
    "collapsed": false
   },
   "outputs": [],
   "source": [
    "#User Averages\n",
    "from numpy import linalg as LA\n",
    "import time \n",
    "row_sum = A.sum(axis = 1)\n",
    "nnz = A.getnnz(axis = 1)\n",
    "user_count,item_count = A.shape  \n",
    "user_avg = np.array(row_sum.reshape(user_count)/nnz).transpose()"
   ]
  },
  {
   "cell_type": "markdown",
   "metadata": {},
   "source": [
    "#### Functions to compute user average and item average "
   ]
  },
  {
   "cell_type": "code",
   "execution_count": null,
   "metadata": {
    "collapsed": true
   },
   "outputs": [],
   "source": [
    "def userAvg(Af, users, mu):\n",
    "    avgR = [0.0 for x in range(users)]\n",
    "    for i in range(users):\n",
    "        ratings = Af[i, :]\n",
    "        denom = 0.0\n",
    "        num = 0.0\n",
    "        for j in range(len(ratings)):\n",
    "            eachRating = Af[i, j]\n",
    "            if eachRating > 0:\n",
    "                num += eachRating\n",
    "                denom += 1\n",
    "        if denom == 0:\n",
    "            avgR[i] = mu\n",
    "        else:\n",
    "            avgR[i] = num / denom\n",
    "    maxR = max(avgR)\n",
    "    minR = min(avgR)\n",
    "    interval = (maxR - minR) / 5.0\n",
    "    bins = [minR + i * interval for i in range(5)]\n",
    "    bins_of_user = np.digitize(avgR, bins) \n",
    "    return avgR\n",
    "\n",
    "def itemAvg(Af, items, mu):\n",
    "    avgR = [0.0 for x in range(items)]\n",
    "    for i in range(items):\n",
    "        ratings = Af[:, i]\n",
    "        denom = 0.0\n",
    "        num = 0.0\n",
    "        for j in range(len(ratings)):\n",
    "            eachRating = Af[j, i]\n",
    "            if eachRating > 0:\n",
    "                num += eachRating\n",
    "                denom += 1\n",
    "        if denom == 0:\n",
    "            avgR[i] = mu\n",
    "        else:\n",
    "            avgR[i] = num / denom\n",
    "    return avgR"
   ]
  },
  {
   "cell_type": "markdown",
   "metadata": {},
   "source": [
    "#### Function to compute the item similarity matrix"
   ]
  },
  {
   "cell_type": "code",
   "execution_count": 138,
   "metadata": {
    "collapsed": false
   },
   "outputs": [],
   "source": [
    "start = time.time()\n",
    "item_similarity = np.zeros(shape=(item_count, item_count))\n",
    "item_similarity[:,:] = -9999.0\n",
    "Adense = A.todense()\n",
    "\n",
    "for i1 in range(item_count):   \n",
    "    #if((i1+1)%10 == 0): print (i1+1)\n",
    "    u1 = np.where(Adense[:,i1]>0)[0]\n",
    "    for i2 in range (i1+1,item_count): \n",
    "        u2 = np.where(Adense[:,i2]>0)[0]\n",
    "        u_com = np.intersect1d(u1, u2)\n",
    "        v1 = Adense[u_com,i1] - user_avg[u_com]\n",
    "        v2 = Adense[u_com,i2] - user_avg[u_com] \n",
    "        if(LA.norm(v1)*LA.norm(v2) == 0): continue\n",
    "        item_similarity[i1,i2] = float((np.dot(np.transpose(v1),v2)) / (LA.norm(v1)*LA.norm(v2)))\n",
    "        item_similarity[i2,i1] = item_similarity[i1,i2]\n",
    "\n",
    "end = time.time()\n",
    "\n",
    "Rf = np.array(R.todense())\n",
    "#Af = np.array(A.todense())\n",
    "#avguser = userAvg(Af, user_count, mu)\n",
    "#avgitem = itemAvg(Af,item_count, mu)"
   ]
  },
  {
   "cell_type": "markdown",
   "metadata": {},
   "source": [
    "#### Function to compute RMSE"
   ]
  },
  {
   "cell_type": "code",
   "execution_count": 148,
   "metadata": {
    "collapsed": true
   },
   "outputs": [],
   "source": [
    "def compute_k_rmse(k) :\n",
    "    rows, cols = np.where(Rf>0)\n",
    "    rmse = 0\n",
    "    count = 0\n",
    "    for row,col in zip(rows,cols) :      \n",
    "        t = knn(col,row,k)\n",
    "        rmse += pow((Rf[row,col]-t),2)\n",
    "        count += 1\n",
    "\n",
    "    rmse = pow(rmse/count,0.5)\n",
    "    return rmse"
   ]
  },
  {
   "cell_type": "markdown",
   "metadata": {},
   "source": [
    "#### Function to compute the predicted user rating"
   ]
  },
  {
   "cell_type": "code",
   "execution_count": 140,
   "metadata": {
    "collapsed": true
   },
   "outputs": [],
   "source": [
    "def knn(itemId, userId, k):\n",
    "        similarItems = item_similarity[itemId].copy()      \n",
    "        userRating = Af[userId, :]\n",
    "        for i in range(len(similarItems)):\n",
    "            if userRating[i] < 1:\n",
    "                similarItems[i] = -9999999      \n",
    "        topK = np.argpartition(similarItems, len(similarItems)-k)[-k:]\n",
    "        num = 0.0\n",
    "        denom = 0.0\n",
    "        for eachItem in topK:\n",
    "            ratedVal = userRating[eachItem]\n",
    "            if ratedVal < 1:\n",
    "                ratedVal = avgitem[itemId]\n",
    "            if ratedVal > 0:\n",
    "                num += (ratedVal * similarItems[eachItem])\n",
    "                denom += (abs(similarItems[eachItem]))     \n",
    "        if denom == 0: return mu\n",
    "        rating = num / denom\n",
    "        if rating < 1: rating = 1\n",
    "        elif rating > 5: rating = 5 \n",
    "        return rating "
   ]
  },
  {
   "cell_type": "markdown",
   "metadata": {},
   "source": [
    "### RMSE values for k = 1,2,3,510"
   ]
  },
  {
   "cell_type": "code",
   "execution_count": 144,
   "metadata": {
    "collapsed": false
   },
   "outputs": [
    {
     "name": "stdout",
     "output_type": "stream",
     "text": [
      "[1.3730090183903105, 1.1883729425165788, 1.1162625755778584, 1.0656028132687985, 1.1867109240208888]\n"
     ]
    }
   ],
   "source": [
    "rmse_k = []\n",
    "x = [1,2,3,5,10]\n",
    "for e in x:\n",
    "    rmse_k.append(compute_k_rmse(e))\n",
    "              \n",
    "print (rmse_k)"
   ]
  },
  {
   "cell_type": "markdown",
   "metadata": {},
   "source": [
    "We see that rmse is best for k = 5"
   ]
  },
  {
   "cell_type": "markdown",
   "metadata": {},
   "source": [
    "### RMSE for k = 1,2,3,5,10"
   ]
  },
  {
   "cell_type": "code",
   "execution_count": 146,
   "metadata": {
    "collapsed": true
   },
   "outputs": [],
   "source": [
    "def rmse_user_k(user_ids,k):\n",
    "    rmse = 0\n",
    "    count = 0\n",
    "    for u in user_ids[0]:\n",
    "        items = np.where(Rf[u,:]>0)\n",
    "        for i in items[0]:\n",
    "            #print (\"hi\",i,u)\n",
    "            t = knn(i,u,k)\n",
    "            rmse += pow((Rf[u,i] - t),2) \n",
    "            count += 1\n",
    "            \n",
    "    rmse = pow(rmse/count,0.5)\n",
    "    return rmse"
   ]
  },
  {
   "cell_type": "code",
   "execution_count": 149,
   "metadata": {
    "collapsed": false
   },
   "outputs": [
    {
     "data": {
      "image/png": "[encoded data removed]",
      "text/plain": [
       "<matplotlib.figure.Figure at 0x1129166a0>"
      ]
     },
     "metadata": {},
     "output_type": "display_data"
    },
    {
     "data": {
      "image/png": "[encoded data removed]",
      "text/plain": [
       "<matplotlib.figure.Figure at 0x112ce6400>"
      ]
     },
     "metadata": {},
     "output_type": "display_data"
    },
    {
     "data": {
      "image/png": "[encoded data removed]",
      "text/plain": [
       "<matplotlib.figure.Figure at 0x112cc3048>"
      ]
     },
     "metadata": {},
     "output_type": "display_data"
    },
    {
     "data": {
      "image/png": "[encoded data removed]",
      "text/plain": [
       "<matplotlib.figure.Figure at 0x112a1da90>"
      ]
     },
     "metadata": {},
     "output_type": "display_data"
    },
    {
     "data": {
      "image/png": "[encoded data removed]",
      "text/plain": [
       "<matplotlib.figure.Figure at 0x1129b7780>"
      ]
     },
     "metadata": {},
     "output_type": "display_data"
    }
   ],
   "source": [
    "grp5_1 = []\n",
    "grp5_2 = []\n",
    "grp5_3 = []\n",
    "grp5_5 = []\n",
    "grp5_10 = []\n",
    "x = []\n",
    "end = min_rating\n",
    "for i in range(5):\n",
    "    prev = end\n",
    "    x.append(prev)\n",
    "    end = prev + segment\n",
    "    user_ids = np.where((user_avg>=prev) & (user_avg<end))\n",
    "    grp5_1.append(rmse_user_k(user_ids,1))\n",
    "    grp5_2.append(rmse_user_k(user_ids,2))\n",
    "    grp5_3.append(rmse_user_k(user_ids,3))\n",
    "    grp5_5.append(rmse_user_k(user_ids,5))\n",
    "    grp5_10.append(rmse_user_k(user_ids,10))\n",
    "\n",
    "plt.figure(figsize=(7,4))\n",
    "plt.bar(x, grp5_1, width=0.6, align='edge')\n",
    "plt.ylabel('RMSE')\n",
    "plt.xlabel('Average ratings per user')\n",
    "plt.title('RMSEs of users divided in 5 groups for k = 1')\n",
    "plt.grid(True)\n",
    "plt.show()\n",
    "\n",
    "plt.figure(figsize=(7,4))\n",
    "plt.bar(x, grp5_2, width=0.6, align='edge')\n",
    "plt.ylabel('RMSE')\n",
    "plt.xlabel('Average ratings per user')\n",
    "plt.title('RMSEs of users divided in 5 groups for k = 2')\n",
    "plt.grid(True)\n",
    "plt.show()\n",
    "\n",
    "plt.figure(figsize=(7,4))\n",
    "plt.bar(x, grp5_3, width=0.6, align='edge')\n",
    "plt.ylabel('RMSE')\n",
    "plt.xlabel('Average ratings per user')\n",
    "plt.title('RMSEs of users divided in 5 groups for k = 3')\n",
    "plt.grid(True)\n",
    "plt.show()\n",
    "\n",
    "plt.figure(figsize=(7,4))\n",
    "plt.bar(x, grp5_5, width=0.6, align='edge')\n",
    "plt.ylabel('RMSE')\n",
    "plt.xlabel('Average ratings per user')\n",
    "plt.title('RMSEs of users divided in 5 groups for k = 5')\n",
    "plt.grid(True)\n",
    "plt.show()\n",
    "\n",
    "plt.figure(figsize=(7,4))\n",
    "plt.bar(x, grp5_10, width=0.6, align='edge')\n",
    "plt.ylabel('RMSE')\n",
    "plt.xlabel('Average ratings per user')\n",
    "plt.title('RMSEs of users divided in 5 groups for k = 10')\n",
    "plt.grid(True)\n",
    "plt.show()"
   ]
  },
  {
   "cell_type": "code",
   "execution_count": null,
   "metadata": {
    "collapsed": true
   },
   "outputs": [],
   "source": []
  }
 ],
 "metadata": {
  "anaconda-cloud": {},
  "kernelspec": {
   "display_name": "Python [Root]",
   "language": "python",
   "name": "Python [Root]"
  },
  "language_info": {
   "codemirror_mode": {
    "name": "ipython",
    "version": 3
   },
   "file_extension": ".py",
   "mimetype": "text/x-python",
   "name": "python",
   "nbconvert_exporter": "python",
   "pygments_lexer": "ipython3",
   "version": "3.5.2"
  }
 },
 "nbformat": 4,
 "nbformat_minor": 0
}
