{
 "cells": [
  {
   "cell_type": "markdown",
   "metadata": {},
   "source": [
    "\n",
    "<h1>Analyzing a Movie Review Dataset</h1>"
   ]
  },
  {
   "cell_type": "markdown",
   "metadata": {},
   "source": [
    "<h1>1. Processing text to create design matrices </h1>"
   ]
  },
  {
   "cell_type": "markdown",
   "metadata": {},
   "source": [
    "<h3>Collecting parsed reviews</h3>"
   ]
  },
  {
   "cell_type": "code",
   "execution_count": 1,
   "metadata": {
    "collapsed": false
   },
   "outputs": [
    {
     "name": "stdout",
     "output_type": "stream",
     "text": [
      "Requirement already satisfied: beautifulsoup4 in /Users/Madhu/Downloads/softwares/anaconda3/lib/python3.5/site-packages\r\n"
     ]
    }
   ],
   "source": [
    "import pandas as pd \n",
    "!pip install beautifulsoup4\n",
    "from bs4 import BeautifulSoup\n",
    "import nltk\n",
    "#nltk.download(['stopwords'])\n",
    "from nltk.corpus import stopwords\n",
    "from sklearn.feature_extraction.text import CountVectorizer\n",
    "import re\n",
    "import numpy as np\n",
    "\n",
    "train = pd.read_csv(\"labeledTrainData.tsv\", header=0, delimiter=\"\\t\", quoting=3)\n",
    "\n",
    "def parser(review):\n",
    "    text_html = BeautifulSoup(review,\"html.parser\").get_text()\n",
    "    letters_only = re.sub(\"[^a-zA-Z]\",\" \",text_html)  \n",
    "    words = letters_only.lower().split()\n",
    "    stopsets = set(stopwords.words(\"english\"))\n",
    "    words_without_stopwords = [w for w in words if not w in stopsets]\n",
    "    review_parsed = \" \".join(words_without_stopwords)\n",
    "    return review_parsed\n",
    "\n",
    "review_parsed = []\n",
    "for i in range(train[\"review\"].size):\n",
    "    review_parsed.append(parser(train[\"review\"][i]))\n"
   ]
  },
  {
   "cell_type": "markdown",
   "metadata": {},
   "source": [
    "<h3>Creating X_counts</h3>"
   ]
  },
  {
   "cell_type": "code",
   "execution_count": 2,
   "metadata": {
    "collapsed": true
   },
   "outputs": [],
   "source": [
    "vectorizer = CountVectorizer(analyzer = \"word\",max_features = 5000) \n",
    "X_counts = vectorizer.fit_transform(review_parsed)\n",
    "X_counts = X_counts.toarray()"
   ]
  },
  {
   "cell_type": "markdown",
   "metadata": {},
   "source": [
    "<h3>Creating X_binary</h3>"
   ]
  },
  {
   "cell_type": "code",
   "execution_count": 3,
   "metadata": {
    "collapsed": false
   },
   "outputs": [],
   "source": [
    "X_binary = np.where(X_counts<1,X_counts,1)"
   ]
  },
  {
   "cell_type": "markdown",
   "metadata": {},
   "source": [
    "<h3>Creating X_tfidf</h3>"
   ]
  },
  {
   "cell_type": "code",
   "execution_count": 4,
   "metadata": {
    "collapsed": true
   },
   "outputs": [],
   "source": [
    "from sklearn.feature_extraction.text import TfidfTransformer\n",
    "transformer = TfidfTransformer(smooth_idf=False)\n",
    "X_tfidf = transformer.fit_transform(X_counts)\n",
    "X_tfidf = X_tfidf.toarray()"
   ]
  },
  {
   "cell_type": "markdown",
   "metadata": {},
   "source": [
    "<h3>Creating X_binary_imbalance</h3>"
   ]
  },
  {
   "cell_type": "code",
   "execution_count": 18,
   "metadata": {
    "collapsed": false
   },
   "outputs": [],
   "source": [
    "tot_amount = len(train[\"sentiment\"])\n",
    "amount_1 = train[train[\"sentiment\"]==1].index\n",
    "np.random.seed(0)\n",
    "remove_indices = np.random.choice(amount_1, int(0.75 * len(amount_1)), replace = False)\n",
    "keep_indices = [i for i in range(0,tot_amount) if i not in remove_indices]\n",
    "X_binary_imbalance = X_binary[keep_indices,:]\n",
    "train_imbalance = train.ix[keep_indices]"
   ]
  },
  {
   "cell_type": "markdown",
   "metadata": {},
   "source": [
    "<h3>Creating class variable</h3>"
   ]
  },
  {
   "cell_type": "code",
   "execution_count": 6,
   "metadata": {
    "collapsed": false
   },
   "outputs": [],
   "source": [
    "Y = train[\"sentiment\"]\n",
    "Y_imbalance = Y[keep_indices]"
   ]
  },
  {
   "cell_type": "markdown",
   "metadata": {},
   "source": [
    "<h1>2. Feature space similarity experiment</h1>"
   ]
  },
  {
   "cell_type": "markdown",
   "metadata": {},
   "source": [
    "<h3>Creating dist function</h3>"
   ]
  },
  {
   "cell_type": "code",
   "execution_count": 7,
   "metadata": {
    "collapsed": true
   },
   "outputs": [],
   "source": [
    "from sklearn.metrics.pairwise import pairwise_distances\n",
    "from scipy.spatial.distance import cdist\n",
    "from scipy.spatial.distance import pdist\n",
    "from sklearn.metrics.pairwise import euclidean_distances\n",
    "from scipy.spatial.distance import squareform\n",
    "import time\n",
    "\n",
    "def dist(X, i, j, distance_function):\n",
    "    return cdist(X[i].reshape((1,5000)),X[j].reshape((1,5000)), distance_function.lower())\n",
    "    "
   ]
  },
  {
   "cell_type": "markdown",
   "metadata": {},
   "source": [
    "<h3>Creating topK function</h3>"
   ]
  },
  {
   "cell_type": "code",
   "execution_count": 8,
   "metadata": {
    "collapsed": false
   },
   "outputs": [],
   "source": [
    "def topK(X,k):\n",
    "    start = time.time()\n",
    "    distances = euclidean_distances(X, X)\n",
    "    upperonly = np.triu_indices(distances.shape[0],1)\n",
    "    flat = distances[upperonly] \n",
    "    flat[flat==0] = np.inf\n",
    "    leastk = np.argpartition(flat,k)[:k]\n",
    "    tri = np.stack((np.triu_indices(distances.shape[0], 1)[0], np.triu_indices(distances.shape[0], 1)[1]), axis=-1)\n",
    "    X_tuple = []\n",
    "    for i,j in tri[leastk]:\n",
    "        X_tuple.append((i,j,distances[i][j]))\n",
    "    end = time.time()\n",
    "    timelapse = (end - start)/60\n",
    "    print('Time taken to run %0.2f minutes' % timelapse)\n",
    "    return X_tuple"
   ]
  },
  {
   "cell_type": "markdown",
   "metadata": {},
   "source": [
    " <h3>TopK (k=10) reviews for X_counts</h3>"
   ]
  },
  {
   "cell_type": "code",
   "execution_count": 9,
   "metadata": {
    "collapsed": false
   },
   "outputs": [
    {
     "name": "stdout",
     "output_type": "stream",
     "text": [
      "Time taken to run 3.01 minutes\n",
      "2052 atlantis much better 20915 atlantis much better 1.0 1 1\n",
      "11876 big fan rom coms bes 21854 big fan rom coms bes 1.0 0 0\n",
      "7663 saw theater fell cha 11331 saw theater fell cha 1.0 1 1\n",
      "17927 liked stanley iris m 23442 liked stanley iris m 1.0 1 1\n",
      "7245 really surprised mov 16635 really suprised movi 1.0 1 1\n",
      "7758 kurt russell best ma 18697 kurt russell best ma 1.0 1 1\n",
      "5930 movie beautiful scen 8651 movie beautiful scen 1.41421356237 0 0\n",
      "3217 brothers psychokinet 13530 brothers psychokinet 1.41421356237 1 1\n",
      "14007 full length feature  15296 full length feature  1.41421356237 1 1\n",
      "17096 college dorm guy kil 21325 college dorm guy kil 1.73205080757 0 0\n"
     ]
    }
   ],
   "source": [
    "X_counts_dist = topK(X_counts,10)\n",
    "kTop = sorted(X_counts_dist, key=lambda x: x[2])\n",
    "for i,j,d in kTop:\n",
    "    print (i,review_parsed[i][:20],j,review_parsed[j][:20],d,Y[i],Y[j])"
   ]
  },
  {
   "cell_type": "markdown",
   "metadata": {},
   "source": [
    "<h3>TopK (k=10) reviews for X_binary</h3>"
   ]
  },
  {
   "cell_type": "code",
   "execution_count": 10,
   "metadata": {
    "collapsed": false
   },
   "outputs": [
    {
     "name": "stdout",
     "output_type": "stream",
     "text": [
      "Time taken to run 2.97 minutes\n",
      "2052 atlantis much better 20915 atlantis much better 1.0 1 1\n",
      "7758 kurt russell best ma 18697 kurt russell best ma 1.0 1 1\n",
      "17927 liked stanley iris m 23442 liked stanley iris m 1.0 1 1\n",
      "3217 brothers psychokinet 13530 brothers psychokinet 1.0 1 1\n",
      "5930 movie beautiful scen 8651 movie beautiful scen 1.0 0 0\n",
      "11876 big fan rom coms bes 21854 big fan rom coms bes 1.0 0 0\n",
      "7663 saw theater fell cha 11331 saw theater fell cha 1.0 1 1\n",
      "7245 really surprised mov 16635 really suprised movi 1.0 1 1\n",
      "14007 full length feature  15296 full length feature  1.41421356237 1 1\n",
      "6864 praised atlantis los 14534 praised atlantis los 1.41421356237 0 0\n"
     ]
    }
   ],
   "source": [
    "X_binary_dist = topK(X_binary,10)\n",
    "kTop = sorted(X_binary_dist, key=lambda x: x[2])\n",
    "for i,j,d in kTop:\n",
    "    print (i,review_parsed[i][:20],j,review_parsed[j][:20],d,Y[i],Y[j])"
   ]
  },
  {
   "cell_type": "markdown",
   "metadata": {},
   "source": [
    "<h3>TopK (k=10) reviews for X_tfidf</h3>"
   ]
  },
  {
   "cell_type": "code",
   "execution_count": 11,
   "metadata": {
    "collapsed": false
   },
   "outputs": [
    {
     "name": "stdout",
     "output_type": "stream",
     "text": [
      "Time taken to run 2.97 minutes\n",
      "2159 sat almost one episo 5283 sat almost one episo 1.49011611938e-08 0 0\n",
      "2804 think almost need sa 4762 think almost need sa 1.49011611938e-08 0 0\n",
      "4946 bfg one roald dahl c 18716 bfg one roald dahl c 1.49011611938e-08 0 0\n",
      "612 reason see movie goo 10730 reason see movie goo 1.49011611938e-08 0 0\n",
      "4937 longtime fan bette m 7794 longtime fan bette m 1.49011611938e-08 1 1\n",
      "5651 used watch show litt 7034 used watch show litt 1.49011611938e-08 1 1\n",
      "4294 time period exhausti 18778 time period exhausti 1.49011611938e-08 0 0\n",
      "7248 movie disgrace major 7915 movie disgrace major 1.49011611938e-08 0 0\n",
      "5656 goodnight mister tom 10451 goodnight mister tom 1.49011611938e-08 0 0\n",
      "3140 really need narcissi 5970 really need narcissi 1.49011611938e-08 0 0\n"
     ]
    }
   ],
   "source": [
    "X_tfidf_dist = topK(X_tfidf,10)\n",
    "kTop = sorted(X_tfidf_dist, key=lambda x: x[2])\n",
    "for i,j,d in kTop:\n",
    "    print (i,review_parsed[i][:20],j,review_parsed[j][:20],d,Y[i],Y[j])"
   ]
  },
  {
   "cell_type": "markdown",
   "metadata": {},
   "source": [
    "<h3>TopK (k=10) reviews for X_binary_imbalance</h3>"
   ]
  },
  {
   "cell_type": "code",
   "execution_count": 14,
   "metadata": {
    "collapsed": false
   },
   "outputs": [
    {
     "name": "stdout",
     "output_type": "stream",
     "text": [
      "Time taken to run 0.89 minutes\n",
      "5930 movie beautiful scen 8651 movie beautiful scen 1.0 0 0\n",
      "11876 big fan rom coms bes 21854 big fan rom coms bes 1.0 0 0\n",
      "6864 praised atlantis los 14534 praised atlantis los 1.41421356237 0 0\n",
      "17096 college dorm guy kil 21325 college dorm guy kil 1.73205080757 0 0\n",
      "20276 movie terrible good  22258 ming merciless littl 2.2360679775 0 0\n",
      "12168 smallville episode j 22258 ming merciless littl 2.64575131106 1 0\n",
      "3769 characters unlikeabl 22258 ming merciless littl 2.82842712475 0 0\n",
      "22258 ming merciless littl 24222 rating begin express 2.82842712475 0 0\n",
      "9038 comment movie imposs 20276 movie terrible good  2.82842712475 0 0\n",
      "12168 smallville episode j 20276 movie terrible good  2.82842712475 1 0\n"
     ]
    }
   ],
   "source": [
    "X_imbalance_dist = topK(X_binary_imbalance,10)\n",
    "kTop = sorted(X_imbalance_dist, key=lambda x: x[2])\n",
    "for i,j,d in kTop:\n",
    "    i_t = train_imbalance.index.values[i]\n",
    "    j_t = train_imbalance.index.values[j]\n",
    "    print (i_t,review_parsed[i_t][:20],j_t,review_parsed[j_t][:20],d,Y[i_t],Y[j_t])"
   ]
  },
  {
   "cell_type": "markdown",
   "metadata": {},
   "source": [
    "<h1>3. Classification Experiment</h1>"
   ]
  },
  {
   "cell_type": "code",
   "execution_count": 29,
   "metadata": {
    "collapsed": false
   },
   "outputs": [],
   "source": [
    "from sklearn.model_selection import train_test_split\n",
    "from sklearn import svm\n",
    "from sklearn.model_selection import cross_val_score\n",
    "from sklearn.metrics import roc_auc_score\n",
    "from sklearn.svm import LinearSVC\n",
    "from sklearn.metrics import roc_auc_score\n",
    "from sklearn import metrics\n",
    "from sklearn.model_selection import GridSearchCV\n",
    "from sklearn.calibration import CalibratedClassifierCV\n",
    "import numpy as np\n",
    "import matplotlib.pyplot as plt\n",
    "%matplotlib inline\n",
    "\n",
    "def best_classifier_roc_plot(X_t,Y_t):\n",
    "    start = time.time()\n",
    "    trainX, testX, trainY, testY = train_test_split(X_t, Y_t, test_size=0.2, random_state=0)\n",
    "    s = np.random.uniform(0.0001,10000,30)\n",
    "    #s = np.logspace(0.0001,10000,30)\n",
    "    worst_c = s[0]\n",
    "    best_c = s[0]\n",
    "    max_auc = 0\n",
    "    min_auc = 1\n",
    "    for c in s:\n",
    "        lin_svm = LinearSVC(C=c) \n",
    "        scores = cross_val_score(lin_svm, trainX, trainY, scoring='roc_auc',cv=5)  ##scoring='roc_auc'\n",
    "        cur_auc = np.mean(scores)  ## Cross validation score\n",
    "        print \n",
    "        if cur_auc > max_auc :\n",
    "            max_auc = cur_auc\n",
    "            best_c = c\n",
    "        if cur_auc < min_auc :\n",
    "            min_auc = cur_auc\n",
    "            worst_c = c\n",
    "            \n",
    "    ##AUC Lift\n",
    "    lift = ((max_auc - min_auc) / min_auc)*100\n",
    "\n",
    "\n",
    "    ## Train the model with best C value\n",
    "    lin_svm_retrain = LinearSVC(C=best_c) \n",
    "    lin_svm_retrain_calib = CalibratedClassifierCV(lin_svm_retrain) \n",
    "    svm_model = lin_svm_retrain_calib.fit(trainX, trainY)  \n",
    "    testY_pred = svm_model.predict(testX)\n",
    "    probs = svm_model.predict_proba(testX)\n",
    "    preds = probs[:,1]\n",
    "    fpr, tpr, threshold = metrics.roc_curve(testY, preds)\n",
    "    roc_auc = metrics.auc(fpr, tpr)\n",
    "\n",
    "    #Plot ROC Curve\n",
    "    plt.title('Receiver Operating Characteristic')\n",
    "    plt.plot(fpr, tpr, 'b', label = 'AUC = %0.2f' % roc_auc)\n",
    "    plt.legend(loc = 'lower right')\n",
    "    plt.plot([0, 1], [0, 1],'r--')\n",
    "    plt.xlim([0, 1])\n",
    "    plt.ylim([0, 1])\n",
    "    plt.ylabel('True Positive Rate')\n",
    "    plt.xlabel('False Positive Rate')\n",
    "    plt.show()\n",
    "    end = time.time()\n",
    "    timelapse = (end - start)/60\n",
    "    print('AUC Lift is %0.2f %%' % lift)\n",
    "    print('Time taken to run %0.2f minutes' % timelapse) \n",
    "\n",
    "    return best_c\n",
    "\n",
    "def kaggle_counts(best_c_counts):\n",
    "    \n",
    "    kaggletest = pd.read_csv(\"testData.tsv\", header=0, delimiter=\"\\t\", quoting=3)\n",
    "    review_parsed_k = []\n",
    "    for i in range(kaggletest[\"review\"].size):\n",
    "        review_parsed_k.append(parser(kaggletest[\"review\"][i]))\n",
    "\n",
    "    X_counts_k = vectorizer.transform(review_parsed_k).toarray()    \n",
    "    Y_counts_k = LinearSVC(C = best_c_counts).fit(X_counts, Y).predict(X_counts_k)\n",
    "    \n",
    "    output = pd.DataFrame( data={\"id\":kaggletest[\"id\"], \"sentiment\":Y_counts_k} )\n",
    "    output.to_csv( \"Counts_k.csv\", index=False, quoting=3 )\n",
    "    \n",
    "    return X_counts_k,kaggletest\n",
    "    \n",
    "def kaggle_binary(best_c_binary,X_counts_k,kaggletest):\n",
    "    \n",
    "    X_binary_k = np.where(X_counts_k<1,X_counts_k,1) \n",
    "    Y_binary_k = LinearSVC(C = best_c_binary).fit(X_binary, Y).predict(X_binary_k)\n",
    "    \n",
    "    output = pd.DataFrame( data={\"id\":kaggletest[\"id\"], \"sentiment\":Y_binary_k} )\n",
    "    output.to_csv( \"Binary_k.csv\", index=False, quoting=3 )\n",
    "    \n",
    "    return X_binary_k\n",
    "    \n",
    "def kaggle_tfidf(best_c_tfidf,X_counts_k,kaggletest):\n",
    "        \n",
    "    X_tfidf_k = transformer.transform(X_counts_k).toarray()\n",
    "    Y_tfidf_k = LinearSVC(C = best_c_tfidf).fit(X_tfidf, Y).predict(X_tfidf_k)\n",
    "    \n",
    "    output = pd.DataFrame( data={\"id\":kaggletest[\"id\"], \"sentiment\":Y_tfidf_k} )\n",
    "    output.to_csv( \"Tfidf_k.csv\", index=False, quoting=3 )\n",
    "\n",
    "def kaggle_imbalance(best_c_imbalance,X_binary_k,kaggletest):\n",
    "    \n",
    "    Y_binary_imbalance_k = LinearSVC(C = best_c_imbalance).fit(X_binary_imbalance, Y_imbalance).predict(X_binary_k)\n",
    "    \n",
    "    output = pd.DataFrame( data={\"id\":kaggletest[\"id\"], \"sentiment\":Y_binary_imbalance_k} )\n",
    "    output.to_csv( \"Imbalance_k.csv\", index=False, quoting=3 )\n",
    "    \n",
    "    "
   ]
  },
  {
   "cell_type": "markdown",
   "metadata": {},
   "source": [
    "<h2>ROC for X_counts</h2>"
   ]
  },
  {
   "cell_type": "code",
   "execution_count": 30,
   "metadata": {
    "collapsed": false
   },
   "outputs": [
    {
     "data": {
      "image/png": "[encoded data removed]",
      "text/plain": [
       "<matplotlib.figure.Figure at 0x111084048>"
      ]
     },
     "metadata": {},
     "output_type": "display_data"
    },
    {
     "name": "stdout",
     "output_type": "stream",
     "text": [
      "AUC Lift is 0.03 %\n",
      "Time taken to run 7.81 minutes\n"
     ]
    }
   ],
   "source": [
    "import time\n",
    "best_c_counts = best_classifier_roc_plot(X_counts,Y)\n",
    "#Calling function to create kaggle csv\n",
    "X_counts_k,kaggletest = kaggle_counts(best_c_counts)"
   ]
  },
  {
   "cell_type": "markdown",
   "metadata": {},
   "source": [
    "<h4>Kagge Score : 0.80372</h4>"
   ]
  },
  {
   "cell_type": "markdown",
   "metadata": {},
   "source": [
    "<h2>ROC for X_binary</h2>"
   ]
  },
  {
   "cell_type": "code",
   "execution_count": 15,
   "metadata": {
    "collapsed": false
   },
   "outputs": [
    {
     "data": {
      "image/png": "[encoded data removed]",
      "text/plain": [
       "<matplotlib.figure.Figure at 0x11402ba58>"
      ]
     },
     "metadata": {},
     "output_type": "display_data"
    },
    {
     "name": "stdout",
     "output_type": "stream",
     "text": [
      "AUC Lift is 0.13 %\n",
      "Time taken to run 7.03 minutes\n"
     ]
    }
   ],
   "source": [
    "best_c_binary = best_classifier_roc_plot(X_binary,Y)\n",
    "X_binary_k = kaggle_binary(best_c_binary,X_counts_k,kaggletest)"
   ]
  },
  {
   "cell_type": "markdown",
   "metadata": {},
   "source": [
    "<h4>Kaggle Score : 0.81576</h4>"
   ]
  },
  {
   "cell_type": "markdown",
   "metadata": {},
   "source": [
    "<h2>ROC for X_tfidf</h2>"
   ]
  },
  {
   "cell_type": "code",
   "execution_count": 31,
   "metadata": {
    "collapsed": false
   },
   "outputs": [
    {
     "data": {
      "image/png": "[encoded data removed]",
      "text/plain": [
       "<matplotlib.figure.Figure at 0x1183b0f28>"
      ]
     },
     "metadata": {},
     "output_type": "display_data"
    },
    {
     "name": "stdout",
     "output_type": "stream",
     "text": [
      "AUC Lift is 0.19 %\n",
      "Time taken to run 6.46 minutes\n"
     ]
    }
   ],
   "source": [
    "best_c_tfidf = best_classifier_roc_plot(X_tfidf,Y)\n",
    "kaggle_tfidf(best_c_tfidf,X_counts_k,kaggletest)"
   ]
  },
  {
   "cell_type": "markdown",
   "metadata": {},
   "source": [
    "<h4>Kaggle Score : 0.80672</h4>"
   ]
  },
  {
   "cell_type": "markdown",
   "metadata": {},
   "source": [
    "<h2>ROC for X_binary_imbalance</h2>"
   ]
  },
  {
   "cell_type": "code",
   "execution_count": 13,
   "metadata": {
    "collapsed": false
   },
   "outputs": [
    {
     "data": {
      "image/png": "[encoded data removed]",
      "text/plain": [
       "<matplotlib.figure.Figure at 0x1134f9630>"
      ]
     },
     "metadata": {},
     "output_type": "display_data"
    },
    {
     "name": "stdout",
     "output_type": "stream",
     "text": [
      "AUC Lift is 0.00 %\n",
      "Time taken to run 2.34 minutes\n"
     ]
    }
   ],
   "source": [
    "best_c_imbalance = best_classifier_roc_plot(X_binary_imbalance,Y_imbalance)\n",
    "kaggle_imbalance(best_c_imbalance,X_binary_k,kaggletest)"
   ]
  },
  {
   "cell_type": "markdown",
   "metadata": {},
   "source": [
    "<h4>Kaggle Score : 0.78340</h4>\n",
    "<h4>Interpretation</h4>\n",
    "Of all the 4 design matrices, TFIDF performed the best with area under the curve of 0.93. This is because TFIDF allows the 5000 words to have a weightage with respect to each document (review in our case) . This information is more valuable than just the counts of the words in the review or the merry fact that it is present or not (as in the case of binary)."
   ]
  },
  {
   "cell_type": "markdown",
   "metadata": {},
   "source": [
    "<h1>4. Learning Curve Experiment</h1>"
   ]
  },
  {
   "cell_type": "code",
   "execution_count": 45,
   "metadata": {
    "collapsed": false
   },
   "outputs": [],
   "source": [
    "import numpy as np\n",
    "import matplotlib.pyplot as plt\n",
    "from sklearn.model_selection import learning_curve\n",
    "from sklearn.linear_model import LogisticRegression\n",
    "\n",
    "def plot_learning_curve(estimator, title, X, y, ylim=None, cv=None,\n",
    "                        n_jobs=1, train_sizes=np.linspace(.1, 1.0, 5),scoring='accuracy'):\n",
    "    plt.figure()\n",
    "    plt.title(title)\n",
    "    if ylim is not None:\n",
    "        plt.ylim(*ylim)\n",
    "    plt.xlabel(\"Training examples\")\n",
    "    plt.ylabel(\"Score\")\n",
    "    train_sizes, train_scores, test_scores = learning_curve(estimator, X, y, cv=cv, n_jobs=n_jobs, train_sizes=train_sizes, scoring=scoring)\n",
    "    train_scores_mean = np.mean(train_scores, axis=1)\n",
    "    train_scores_std = np.std(train_scores, axis=1)\n",
    "    test_scores_mean = np.mean(test_scores, axis=1)\n",
    "    test_scores_std = np.std(test_scores, axis=1)\n",
    "    plt.grid()\n",
    "\n",
    "    plt.fill_between(train_sizes, train_scores_mean - train_scores_std,\n",
    "                     train_scores_mean + train_scores_std, alpha=0.1,\n",
    "                     color=\"r\")\n",
    "    plt.fill_between(train_sizes, test_scores_mean - test_scores_std,\n",
    "                     test_scores_mean + test_scores_std, alpha=0.1, color=\"g\")\n",
    "    plt.plot(train_sizes, train_scores_mean, 'o-', color=\"r\",\n",
    "             label=\"Training score\")\n",
    "    plt.plot(train_sizes, test_scores_mean, 'o-', color=\"g\",\n",
    "             label=\"Cross-validation score\")\n",
    "    plt.legend(loc = 'lower right')\n",
    "    return plt\n",
    "\n",
    "def logistic_learning_curve(X_t,Y_t,scoring):\n",
    "    title = \"Learning Curves (Logistic Regression)\"\n",
    "    logistic = LogisticRegression(random_state=0)\n",
    "    train_sizes= np.array([100, 500, 1000, 2000,3000, 4000, 5000, 7500, 10000, 15000, 20000])\n",
    "    plot_learning_curve(logistic, title, X_t, Y_t, ylim=(0.3, 1.01), cv=5, n_jobs=1,train_sizes=train_sizes,scoring=scoring)\n",
    "    plt.show()\n"
   ]
  },
  {
   "cell_type": "code",
   "execution_count": 38,
   "metadata": {
    "collapsed": false
   },
   "outputs": [
    {
     "data": {
      "image/png": "[encoded data removed]",
      "text/plain": [
       "<matplotlib.figure.Figure at 0x1110840b8>"
      ]
     },
     "metadata": {},
     "output_type": "display_data"
    }
   ],
   "source": [
    "logistic_learning_curve(X_counts,Y,'accuracy')"
   ]
  },
  {
   "cell_type": "markdown",
   "metadata": {},
   "source": [
    "<h4>Interpretation</h4>\n",
    "As we decrease the number of train samples we can see the training accuracy is close to 1 and the testing accuracy is decreasing. This shows that it is overfitting at lower train samples. \n",
    "<h4>Note :</h4>The above graph shows accuracy. The error is nothing but 1 - accuracy. The graph will be analogous and is shown below.\n",
    "\n",
    "<h3>Learning curve with error</h3>"
   ]
  },
  {
   "cell_type": "code",
   "execution_count": 48,
   "metadata": {
    "collapsed": false
   },
   "outputs": [
    {
     "data": {
      "image/png": "[encoded data removed]",
      "text/plain": [
       "<matplotlib.figure.Figure at 0x114f577f0>"
      ]
     },
     "metadata": {},
     "output_type": "display_data"
    }
   ],
   "source": [
    "def plot_learning_curve(estimator, title, X, y, ylim=None, cv=None,\n",
    "                        n_jobs=1, train_sizes=np.linspace(.1, 1.0, 5),scoring='accuracy'):\n",
    "    plt.figure()\n",
    "    plt.title(title)\n",
    "    if ylim is not None:\n",
    "        plt.ylim(*ylim)\n",
    "    plt.xlabel(\"Training examples\")\n",
    "    plt.ylabel(\"Error\")\n",
    "    train_sizes, train_scores, test_scores = learning_curve(estimator, X, y, cv=cv, n_jobs=n_jobs, train_sizes=train_sizes, scoring=scoring)\n",
    "    train_scores_mean = 1 - np.mean(train_scores, axis=1)\n",
    "    train_scores_std = np.std(train_scores, axis=1)\n",
    "    test_scores_mean = 1 - np.mean(test_scores, axis=1)\n",
    "    test_scores_std = np.std(test_scores, axis=1)\n",
    "    plt.grid()\n",
    "\n",
    "    plt.fill_between(train_sizes, train_scores_mean - train_scores_std,\n",
    "                     train_scores_mean + train_scores_std, alpha=0.1,\n",
    "                     color=\"r\")\n",
    "    plt.fill_between(train_sizes, test_scores_mean - test_scores_std,\n",
    "                     test_scores_mean + test_scores_std, alpha=0.1, color=\"g\")\n",
    "    plt.plot(train_sizes, train_scores_mean, 'o-', color=\"r\",\n",
    "             label=\"Training error\")\n",
    "    plt.plot(train_sizes, test_scores_mean, 'o-', color=\"g\",\n",
    "             label=\"Cross-validation error\")\n",
    "    plt.legend(loc = 'upper right')\n",
    "    return plt\n",
    "\n",
    "def logistic_learning_curve(X_t,Y_t,scoring):\n",
    "    title = \"Learning Curves (Logistic Regression)\"\n",
    "    logistic = LogisticRegression(random_state=0)\n",
    "    train_sizes= np.array([100, 500, 1000, 2000,3000, 4000, 5000, 7500, 10000, 15000, 20000])\n",
    "    plot_learning_curve(logistic, title, X_t, Y_t, ylim=(0, 0.4), cv=5, n_jobs=1,train_sizes=train_sizes,scoring=scoring)\n",
    "    plt.show()\n",
    "\n",
    "logistic_learning_curve(X_counts,Y,'accuracy')\n"
   ]
  },
  {
   "cell_type": "code",
   "execution_count": null,
   "metadata": {
    "collapsed": true
   },
   "outputs": [],
   "source": []
  }
 ],
 "metadata": {
  "anaconda-cloud": {},
  "kernelspec": {
   "display_name": "Python [py3k]",
   "language": "python",
   "name": "Python [py3k]"
  },
  "language_info": {
   "codemirror_mode": {
    "name": "ipython",
    "version": 3
   },
   "file_extension": ".py",
   "mimetype": "text/x-python",
   "name": "python",
   "nbconvert_exporter": "python",
   "pygments_lexer": "ipython3",
   "version": "3.5.2"
  }
 },
 "nbformat": 4,
 "nbformat_minor": 0
}
